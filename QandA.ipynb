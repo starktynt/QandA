{
  "nbformat": 4,
  "nbformat_minor": 5,
  "metadata": {
    "colab": {
      "name": "QandA.ipynb",
      "provenance": [],
      "collapsed_sections": []
    },
    "kernelspec": {
      "display_name": "Python 3",
      "language": "python",
      "name": "python3"
    },
    "language_info": {
      "codemirror_mode": {
        "name": "ipython",
        "version": 3
      },
      "file_extension": ".py",
      "mimetype": "text/x-python",
      "name": "python",
      "nbconvert_exporter": "python",
      "pygments_lexer": "ipython3",
      "version": "3.9.4"
    },
    "widgets": {
      "application/vnd.jupyter.widget-state+json": {
        "c77e36f7e097494dbdb7af6e996f410f": {
          "model_module": "@jupyter-widgets/controls",
          "model_name": "HBoxModel",
          "state": {
            "_dom_classes": [],
            "_model_module": "@jupyter-widgets/controls",
            "_model_module_version": "1.5.0",
            "_model_name": "HBoxModel",
            "_view_count": null,
            "_view_module": "@jupyter-widgets/controls",
            "_view_module_version": "1.5.0",
            "_view_name": "HBoxView",
            "box_style": "",
            "children": [
              "IPY_MODEL_b579122ccedf4f5c98a38b4d8aff22bd",
              "IPY_MODEL_e2a7d10148264e4a934b2ab376497d06"
            ],
            "layout": "IPY_MODEL_f98dac88065b412ea519c808081608f1"
          }
        },
        "b579122ccedf4f5c98a38b4d8aff22bd": {
          "model_module": "@jupyter-widgets/controls",
          "model_name": "FloatProgressModel",
          "state": {
            "_dom_classes": [],
            "_model_module": "@jupyter-widgets/controls",
            "_model_module_version": "1.5.0",
            "_model_name": "FloatProgressModel",
            "_view_count": null,
            "_view_module": "@jupyter-widgets/controls",
            "_view_module_version": "1.5.0",
            "_view_name": "ProgressView",
            "bar_style": "success",
            "description": "Downloading: 100%",
            "description_tooltip": null,
            "layout": "IPY_MODEL_af9e91ee48dd4fdc943e223d37dccd8c",
            "max": 1348,
            "min": 0,
            "orientation": "horizontal",
            "style": "IPY_MODEL_5ea5731638cf4940bed511e500124bfe",
            "value": 1348
          }
        },
        "e2a7d10148264e4a934b2ab376497d06": {
          "model_module": "@jupyter-widgets/controls",
          "model_name": "HTMLModel",
          "state": {
            "_dom_classes": [],
            "_model_module": "@jupyter-widgets/controls",
            "_model_module_version": "1.5.0",
            "_model_name": "HTMLModel",
            "_view_count": null,
            "_view_module": "@jupyter-widgets/controls",
            "_view_module_version": "1.5.0",
            "_view_name": "HTMLView",
            "description": "",
            "description_tooltip": null,
            "layout": "IPY_MODEL_a793d42e757c4561b461941ac5b7533c",
            "placeholder": "​",
            "style": "IPY_MODEL_9ca90abce0f349dcb895e20f8b5d7bc8",
            "value": " 1.35k/1.35k [00:21&lt;00:00, 61.7B/s]"
          }
        },
        "f98dac88065b412ea519c808081608f1": {
          "model_module": "@jupyter-widgets/base",
          "model_name": "LayoutModel",
          "state": {
            "_model_module": "@jupyter-widgets/base",
            "_model_module_version": "1.2.0",
            "_model_name": "LayoutModel",
            "_view_count": null,
            "_view_module": "@jupyter-widgets/base",
            "_view_module_version": "1.2.0",
            "_view_name": "LayoutView",
            "align_content": null,
            "align_items": null,
            "align_self": null,
            "border": null,
            "bottom": null,
            "display": null,
            "flex": null,
            "flex_flow": null,
            "grid_area": null,
            "grid_auto_columns": null,
            "grid_auto_flow": null,
            "grid_auto_rows": null,
            "grid_column": null,
            "grid_gap": null,
            "grid_row": null,
            "grid_template_areas": null,
            "grid_template_columns": null,
            "grid_template_rows": null,
            "height": null,
            "justify_content": null,
            "justify_items": null,
            "left": null,
            "margin": null,
            "max_height": null,
            "max_width": null,
            "min_height": null,
            "min_width": null,
            "object_fit": null,
            "object_position": null,
            "order": null,
            "overflow": null,
            "overflow_x": null,
            "overflow_y": null,
            "padding": null,
            "right": null,
            "top": null,
            "visibility": null,
            "width": null
          }
        },
        "af9e91ee48dd4fdc943e223d37dccd8c": {
          "model_module": "@jupyter-widgets/base",
          "model_name": "LayoutModel",
          "state": {
            "_model_module": "@jupyter-widgets/base",
            "_model_module_version": "1.2.0",
            "_model_name": "LayoutModel",
            "_view_count": null,
            "_view_module": "@jupyter-widgets/base",
            "_view_module_version": "1.2.0",
            "_view_name": "LayoutView",
            "align_content": null,
            "align_items": null,
            "align_self": null,
            "border": null,
            "bottom": null,
            "display": null,
            "flex": null,
            "flex_flow": null,
            "grid_area": null,
            "grid_auto_columns": null,
            "grid_auto_flow": null,
            "grid_auto_rows": null,
            "grid_column": null,
            "grid_gap": null,
            "grid_row": null,
            "grid_template_areas": null,
            "grid_template_columns": null,
            "grid_template_rows": null,
            "height": null,
            "justify_content": null,
            "justify_items": null,
            "left": null,
            "margin": null,
            "max_height": null,
            "max_width": null,
            "min_height": null,
            "min_width": null,
            "object_fit": null,
            "object_position": null,
            "order": null,
            "overflow": null,
            "overflow_x": null,
            "overflow_y": null,
            "padding": null,
            "right": null,
            "top": null,
            "visibility": null,
            "width": null
          }
        },
        "5ea5731638cf4940bed511e500124bfe": {
          "model_module": "@jupyter-widgets/controls",
          "model_name": "ProgressStyleModel",
          "state": {
            "_model_module": "@jupyter-widgets/controls",
            "_model_module_version": "1.5.0",
            "_model_name": "ProgressStyleModel",
            "_view_count": null,
            "_view_module": "@jupyter-widgets/base",
            "_view_module_version": "1.2.0",
            "_view_name": "StyleView",
            "bar_color": null,
            "description_width": "initial"
          }
        },
        "a793d42e757c4561b461941ac5b7533c": {
          "model_module": "@jupyter-widgets/base",
          "model_name": "LayoutModel",
          "state": {
            "_model_module": "@jupyter-widgets/base",
            "_model_module_version": "1.2.0",
            "_model_name": "LayoutModel",
            "_view_count": null,
            "_view_module": "@jupyter-widgets/base",
            "_view_module_version": "1.2.0",
            "_view_name": "LayoutView",
            "align_content": null,
            "align_items": null,
            "align_self": null,
            "border": null,
            "bottom": null,
            "display": null,
            "flex": null,
            "flex_flow": null,
            "grid_area": null,
            "grid_auto_columns": null,
            "grid_auto_flow": null,
            "grid_auto_rows": null,
            "grid_column": null,
            "grid_gap": null,
            "grid_row": null,
            "grid_template_areas": null,
            "grid_template_columns": null,
            "grid_template_rows": null,
            "height": null,
            "justify_content": null,
            "justify_items": null,
            "left": null,
            "margin": null,
            "max_height": null,
            "max_width": null,
            "min_height": null,
            "min_width": null,
            "object_fit": null,
            "object_position": null,
            "order": null,
            "overflow": null,
            "overflow_x": null,
            "overflow_y": null,
            "padding": null,
            "right": null,
            "top": null,
            "visibility": null,
            "width": null
          }
        },
        "9ca90abce0f349dcb895e20f8b5d7bc8": {
          "model_module": "@jupyter-widgets/controls",
          "model_name": "DescriptionStyleModel",
          "state": {
            "_model_module": "@jupyter-widgets/controls",
            "_model_module_version": "1.5.0",
            "_model_name": "DescriptionStyleModel",
            "_view_count": null,
            "_view_module": "@jupyter-widgets/base",
            "_view_module_version": "1.2.0",
            "_view_name": "StyleView",
            "description_width": ""
          }
        },
        "1523a0f3939847f59beb38818175fe70": {
          "model_module": "@jupyter-widgets/controls",
          "model_name": "HBoxModel",
          "state": {
            "_dom_classes": [],
            "_model_module": "@jupyter-widgets/controls",
            "_model_module_version": "1.5.0",
            "_model_name": "HBoxModel",
            "_view_count": null,
            "_view_module": "@jupyter-widgets/controls",
            "_view_module_version": "1.5.0",
            "_view_name": "HBoxView",
            "box_style": "",
            "children": [
              "IPY_MODEL_d395198261974b2882fb19daf7d39ae8",
              "IPY_MODEL_5175226602b24b02bb85ccd3be831798"
            ],
            "layout": "IPY_MODEL_868d15e0c4074848b8c357fbe269de20"
          }
        },
        "d395198261974b2882fb19daf7d39ae8": {
          "model_module": "@jupyter-widgets/controls",
          "model_name": "FloatProgressModel",
          "state": {
            "_dom_classes": [],
            "_model_module": "@jupyter-widgets/controls",
            "_model_module_version": "1.5.0",
            "_model_name": "FloatProgressModel",
            "_view_count": null,
            "_view_module": "@jupyter-widgets/controls",
            "_view_module_version": "1.5.0",
            "_view_name": "ProgressView",
            "bar_style": "success",
            "description": "Downloading: 100%",
            "description_tooltip": null,
            "layout": "IPY_MODEL_5cf40c7141a44059a8a230606475c15b",
            "max": 791656,
            "min": 0,
            "orientation": "horizontal",
            "style": "IPY_MODEL_cc8a6aac705e4455ac53a3191a913692",
            "value": 791656
          }
        },
        "5175226602b24b02bb85ccd3be831798": {
          "model_module": "@jupyter-widgets/controls",
          "model_name": "HTMLModel",
          "state": {
            "_dom_classes": [],
            "_model_module": "@jupyter-widgets/controls",
            "_model_module_version": "1.5.0",
            "_model_name": "HTMLModel",
            "_view_count": null,
            "_view_module": "@jupyter-widgets/controls",
            "_view_module_version": "1.5.0",
            "_view_name": "HTMLView",
            "description": "",
            "description_tooltip": null,
            "layout": "IPY_MODEL_d0128af4ba76413296a9619db2a6e012",
            "placeholder": "​",
            "style": "IPY_MODEL_7606cce214c847e694587bc6b1658464",
            "value": " 792k/792k [00:00&lt;00:00, 1.95MB/s]"
          }
        },
        "868d15e0c4074848b8c357fbe269de20": {
          "model_module": "@jupyter-widgets/base",
          "model_name": "LayoutModel",
          "state": {
            "_model_module": "@jupyter-widgets/base",
            "_model_module_version": "1.2.0",
            "_model_name": "LayoutModel",
            "_view_count": null,
            "_view_module": "@jupyter-widgets/base",
            "_view_module_version": "1.2.0",
            "_view_name": "LayoutView",
            "align_content": null,
            "align_items": null,
            "align_self": null,
            "border": null,
            "bottom": null,
            "display": null,
            "flex": null,
            "flex_flow": null,
            "grid_area": null,
            "grid_auto_columns": null,
            "grid_auto_flow": null,
            "grid_auto_rows": null,
            "grid_column": null,
            "grid_gap": null,
            "grid_row": null,
            "grid_template_areas": null,
            "grid_template_columns": null,
            "grid_template_rows": null,
            "height": null,
            "justify_content": null,
            "justify_items": null,
            "left": null,
            "margin": null,
            "max_height": null,
            "max_width": null,
            "min_height": null,
            "min_width": null,
            "object_fit": null,
            "object_position": null,
            "order": null,
            "overflow": null,
            "overflow_x": null,
            "overflow_y": null,
            "padding": null,
            "right": null,
            "top": null,
            "visibility": null,
            "width": null
          }
        },
        "5cf40c7141a44059a8a230606475c15b": {
          "model_module": "@jupyter-widgets/base",
          "model_name": "LayoutModel",
          "state": {
            "_model_module": "@jupyter-widgets/base",
            "_model_module_version": "1.2.0",
            "_model_name": "LayoutModel",
            "_view_count": null,
            "_view_module": "@jupyter-widgets/base",
            "_view_module_version": "1.2.0",
            "_view_name": "LayoutView",
            "align_content": null,
            "align_items": null,
            "align_self": null,
            "border": null,
            "bottom": null,
            "display": null,
            "flex": null,
            "flex_flow": null,
            "grid_area": null,
            "grid_auto_columns": null,
            "grid_auto_flow": null,
            "grid_auto_rows": null,
            "grid_column": null,
            "grid_gap": null,
            "grid_row": null,
            "grid_template_areas": null,
            "grid_template_columns": null,
            "grid_template_rows": null,
            "height": null,
            "justify_content": null,
            "justify_items": null,
            "left": null,
            "margin": null,
            "max_height": null,
            "max_width": null,
            "min_height": null,
            "min_width": null,
            "object_fit": null,
            "object_position": null,
            "order": null,
            "overflow": null,
            "overflow_x": null,
            "overflow_y": null,
            "padding": null,
            "right": null,
            "top": null,
            "visibility": null,
            "width": null
          }
        },
        "cc8a6aac705e4455ac53a3191a913692": {
          "model_module": "@jupyter-widgets/controls",
          "model_name": "ProgressStyleModel",
          "state": {
            "_model_module": "@jupyter-widgets/controls",
            "_model_module_version": "1.5.0",
            "_model_name": "ProgressStyleModel",
            "_view_count": null,
            "_view_module": "@jupyter-widgets/base",
            "_view_module_version": "1.2.0",
            "_view_name": "StyleView",
            "bar_color": null,
            "description_width": "initial"
          }
        },
        "d0128af4ba76413296a9619db2a6e012": {
          "model_module": "@jupyter-widgets/base",
          "model_name": "LayoutModel",
          "state": {
            "_model_module": "@jupyter-widgets/base",
            "_model_module_version": "1.2.0",
            "_model_name": "LayoutModel",
            "_view_count": null,
            "_view_module": "@jupyter-widgets/base",
            "_view_module_version": "1.2.0",
            "_view_name": "LayoutView",
            "align_content": null,
            "align_items": null,
            "align_self": null,
            "border": null,
            "bottom": null,
            "display": null,
            "flex": null,
            "flex_flow": null,
            "grid_area": null,
            "grid_auto_columns": null,
            "grid_auto_flow": null,
            "grid_auto_rows": null,
            "grid_column": null,
            "grid_gap": null,
            "grid_row": null,
            "grid_template_areas": null,
            "grid_template_columns": null,
            "grid_template_rows": null,
            "height": null,
            "justify_content": null,
            "justify_items": null,
            "left": null,
            "margin": null,
            "max_height": null,
            "max_width": null,
            "min_height": null,
            "min_width": null,
            "object_fit": null,
            "object_position": null,
            "order": null,
            "overflow": null,
            "overflow_x": null,
            "overflow_y": null,
            "padding": null,
            "right": null,
            "top": null,
            "visibility": null,
            "width": null
          }
        },
        "7606cce214c847e694587bc6b1658464": {
          "model_module": "@jupyter-widgets/controls",
          "model_name": "DescriptionStyleModel",
          "state": {
            "_model_module": "@jupyter-widgets/controls",
            "_model_module_version": "1.5.0",
            "_model_name": "DescriptionStyleModel",
            "_view_count": null,
            "_view_module": "@jupyter-widgets/base",
            "_view_module_version": "1.2.0",
            "_view_name": "StyleView",
            "description_width": ""
          }
        },
        "bcfc60922e184b57a75cdd64565479d5": {
          "model_module": "@jupyter-widgets/controls",
          "model_name": "HBoxModel",
          "state": {
            "_dom_classes": [],
            "_model_module": "@jupyter-widgets/controls",
            "_model_module_version": "1.5.0",
            "_model_name": "HBoxModel",
            "_view_count": null,
            "_view_module": "@jupyter-widgets/controls",
            "_view_module_version": "1.5.0",
            "_view_name": "HBoxView",
            "box_style": "",
            "children": [
              "IPY_MODEL_6464b6a08a294f0685a438b9fd1dec54",
              "IPY_MODEL_3b8bec6461c946d3a15ed098829d140b"
            ],
            "layout": "IPY_MODEL_f1febfe291dd43bfbb2a75abb037932d"
          }
        },
        "6464b6a08a294f0685a438b9fd1dec54": {
          "model_module": "@jupyter-widgets/controls",
          "model_name": "FloatProgressModel",
          "state": {
            "_dom_classes": [],
            "_model_module": "@jupyter-widgets/controls",
            "_model_module_version": "1.5.0",
            "_model_name": "FloatProgressModel",
            "_view_count": null,
            "_view_module": "@jupyter-widgets/controls",
            "_view_module_version": "1.5.0",
            "_view_name": "ProgressView",
            "bar_style": "success",
            "description": "Downloading: 100%",
            "description_tooltip": null,
            "layout": "IPY_MODEL_6501ec97e87342e1a0bea977ceb6719d",
            "max": 31,
            "min": 0,
            "orientation": "horizontal",
            "style": "IPY_MODEL_30732d9d68e14fec9a517ea948b34717",
            "value": 31
          }
        },
        "3b8bec6461c946d3a15ed098829d140b": {
          "model_module": "@jupyter-widgets/controls",
          "model_name": "HTMLModel",
          "state": {
            "_dom_classes": [],
            "_model_module": "@jupyter-widgets/controls",
            "_model_module_version": "1.5.0",
            "_model_name": "HTMLModel",
            "_view_count": null,
            "_view_module": "@jupyter-widgets/controls",
            "_view_module_version": "1.5.0",
            "_view_name": "HTMLView",
            "description": "",
            "description_tooltip": null,
            "layout": "IPY_MODEL_50acd66e6e4b4810ba684cb9c25c2f0a",
            "placeholder": "​",
            "style": "IPY_MODEL_afd287d7a2c447fc9e321450af84acc6",
            "value": " 31.0/31.0 [00:21&lt;00:00, 1.46B/s]"
          }
        },
        "f1febfe291dd43bfbb2a75abb037932d": {
          "model_module": "@jupyter-widgets/base",
          "model_name": "LayoutModel",
          "state": {
            "_model_module": "@jupyter-widgets/base",
            "_model_module_version": "1.2.0",
            "_model_name": "LayoutModel",
            "_view_count": null,
            "_view_module": "@jupyter-widgets/base",
            "_view_module_version": "1.2.0",
            "_view_name": "LayoutView",
            "align_content": null,
            "align_items": null,
            "align_self": null,
            "border": null,
            "bottom": null,
            "display": null,
            "flex": null,
            "flex_flow": null,
            "grid_area": null,
            "grid_auto_columns": null,
            "grid_auto_flow": null,
            "grid_auto_rows": null,
            "grid_column": null,
            "grid_gap": null,
            "grid_row": null,
            "grid_template_areas": null,
            "grid_template_columns": null,
            "grid_template_rows": null,
            "height": null,
            "justify_content": null,
            "justify_items": null,
            "left": null,
            "margin": null,
            "max_height": null,
            "max_width": null,
            "min_height": null,
            "min_width": null,
            "object_fit": null,
            "object_position": null,
            "order": null,
            "overflow": null,
            "overflow_x": null,
            "overflow_y": null,
            "padding": null,
            "right": null,
            "top": null,
            "visibility": null,
            "width": null
          }
        },
        "6501ec97e87342e1a0bea977ceb6719d": {
          "model_module": "@jupyter-widgets/base",
          "model_name": "LayoutModel",
          "state": {
            "_model_module": "@jupyter-widgets/base",
            "_model_module_version": "1.2.0",
            "_model_name": "LayoutModel",
            "_view_count": null,
            "_view_module": "@jupyter-widgets/base",
            "_view_module_version": "1.2.0",
            "_view_name": "LayoutView",
            "align_content": null,
            "align_items": null,
            "align_self": null,
            "border": null,
            "bottom": null,
            "display": null,
            "flex": null,
            "flex_flow": null,
            "grid_area": null,
            "grid_auto_columns": null,
            "grid_auto_flow": null,
            "grid_auto_rows": null,
            "grid_column": null,
            "grid_gap": null,
            "grid_row": null,
            "grid_template_areas": null,
            "grid_template_columns": null,
            "grid_template_rows": null,
            "height": null,
            "justify_content": null,
            "justify_items": null,
            "left": null,
            "margin": null,
            "max_height": null,
            "max_width": null,
            "min_height": null,
            "min_width": null,
            "object_fit": null,
            "object_position": null,
            "order": null,
            "overflow": null,
            "overflow_x": null,
            "overflow_y": null,
            "padding": null,
            "right": null,
            "top": null,
            "visibility": null,
            "width": null
          }
        },
        "30732d9d68e14fec9a517ea948b34717": {
          "model_module": "@jupyter-widgets/controls",
          "model_name": "ProgressStyleModel",
          "state": {
            "_model_module": "@jupyter-widgets/controls",
            "_model_module_version": "1.5.0",
            "_model_name": "ProgressStyleModel",
            "_view_count": null,
            "_view_module": "@jupyter-widgets/base",
            "_view_module_version": "1.2.0",
            "_view_name": "StyleView",
            "bar_color": null,
            "description_width": "initial"
          }
        },
        "50acd66e6e4b4810ba684cb9c25c2f0a": {
          "model_module": "@jupyter-widgets/base",
          "model_name": "LayoutModel",
          "state": {
            "_model_module": "@jupyter-widgets/base",
            "_model_module_version": "1.2.0",
            "_model_name": "LayoutModel",
            "_view_count": null,
            "_view_module": "@jupyter-widgets/base",
            "_view_module_version": "1.2.0",
            "_view_name": "LayoutView",
            "align_content": null,
            "align_items": null,
            "align_self": null,
            "border": null,
            "bottom": null,
            "display": null,
            "flex": null,
            "flex_flow": null,
            "grid_area": null,
            "grid_auto_columns": null,
            "grid_auto_flow": null,
            "grid_auto_rows": null,
            "grid_column": null,
            "grid_gap": null,
            "grid_row": null,
            "grid_template_areas": null,
            "grid_template_columns": null,
            "grid_template_rows": null,
            "height": null,
            "justify_content": null,
            "justify_items": null,
            "left": null,
            "margin": null,
            "max_height": null,
            "max_width": null,
            "min_height": null,
            "min_width": null,
            "object_fit": null,
            "object_position": null,
            "order": null,
            "overflow": null,
            "overflow_x": null,
            "overflow_y": null,
            "padding": null,
            "right": null,
            "top": null,
            "visibility": null,
            "width": null
          }
        },
        "afd287d7a2c447fc9e321450af84acc6": {
          "model_module": "@jupyter-widgets/controls",
          "model_name": "DescriptionStyleModel",
          "state": {
            "_model_module": "@jupyter-widgets/controls",
            "_model_module_version": "1.5.0",
            "_model_name": "DescriptionStyleModel",
            "_view_count": null,
            "_view_module": "@jupyter-widgets/base",
            "_view_module_version": "1.2.0",
            "_view_name": "StyleView",
            "description_width": ""
          }
        },
        "e8c56d00679b4a2b8804e0357060ca06": {
          "model_module": "@jupyter-widgets/controls",
          "model_name": "HBoxModel",
          "state": {
            "_dom_classes": [],
            "_model_module": "@jupyter-widgets/controls",
            "_model_module_version": "1.5.0",
            "_model_name": "HBoxModel",
            "_view_count": null,
            "_view_module": "@jupyter-widgets/controls",
            "_view_module_version": "1.5.0",
            "_view_name": "HBoxView",
            "box_style": "",
            "children": [
              "IPY_MODEL_6eab1315caee4851806db99ca2bde38d",
              "IPY_MODEL_58bd5f8fcf9e428ab243b6cc954a49c4"
            ],
            "layout": "IPY_MODEL_a40897cffd65432fb0f4556dbd984b98"
          }
        },
        "6eab1315caee4851806db99ca2bde38d": {
          "model_module": "@jupyter-widgets/controls",
          "model_name": "FloatProgressModel",
          "state": {
            "_dom_classes": [],
            "_model_module": "@jupyter-widgets/controls",
            "_model_module_version": "1.5.0",
            "_model_name": "FloatProgressModel",
            "_view_count": null,
            "_view_module": "@jupyter-widgets/controls",
            "_view_module_version": "1.5.0",
            "_view_name": "ProgressView",
            "bar_style": "success",
            "description": "Downloading: 100%",
            "description_tooltip": null,
            "layout": "IPY_MODEL_1ebaa7a8d74b44069a03a0937a2ce2c2",
            "max": 1786,
            "min": 0,
            "orientation": "horizontal",
            "style": "IPY_MODEL_7251a9c3f0df4f36b6d2c26042fc79b0",
            "value": 1786
          }
        },
        "58bd5f8fcf9e428ab243b6cc954a49c4": {
          "model_module": "@jupyter-widgets/controls",
          "model_name": "HTMLModel",
          "state": {
            "_dom_classes": [],
            "_model_module": "@jupyter-widgets/controls",
            "_model_module_version": "1.5.0",
            "_model_name": "HTMLModel",
            "_view_count": null,
            "_view_module": "@jupyter-widgets/controls",
            "_view_module_version": "1.5.0",
            "_view_name": "HTMLView",
            "description": "",
            "description_tooltip": null,
            "layout": "IPY_MODEL_c98d24874d334b469bb85ecfcc3c1674",
            "placeholder": "​",
            "style": "IPY_MODEL_4f380755c723411da522c788f844b5c9",
            "value": " 1.79k/1.79k [00:01&lt;00:00, 1.38kB/s]"
          }
        },
        "a40897cffd65432fb0f4556dbd984b98": {
          "model_module": "@jupyter-widgets/base",
          "model_name": "LayoutModel",
          "state": {
            "_model_module": "@jupyter-widgets/base",
            "_model_module_version": "1.2.0",
            "_model_name": "LayoutModel",
            "_view_count": null,
            "_view_module": "@jupyter-widgets/base",
            "_view_module_version": "1.2.0",
            "_view_name": "LayoutView",
            "align_content": null,
            "align_items": null,
            "align_self": null,
            "border": null,
            "bottom": null,
            "display": null,
            "flex": null,
            "flex_flow": null,
            "grid_area": null,
            "grid_auto_columns": null,
            "grid_auto_flow": null,
            "grid_auto_rows": null,
            "grid_column": null,
            "grid_gap": null,
            "grid_row": null,
            "grid_template_areas": null,
            "grid_template_columns": null,
            "grid_template_rows": null,
            "height": null,
            "justify_content": null,
            "justify_items": null,
            "left": null,
            "margin": null,
            "max_height": null,
            "max_width": null,
            "min_height": null,
            "min_width": null,
            "object_fit": null,
            "object_position": null,
            "order": null,
            "overflow": null,
            "overflow_x": null,
            "overflow_y": null,
            "padding": null,
            "right": null,
            "top": null,
            "visibility": null,
            "width": null
          }
        },
        "1ebaa7a8d74b44069a03a0937a2ce2c2": {
          "model_module": "@jupyter-widgets/base",
          "model_name": "LayoutModel",
          "state": {
            "_model_module": "@jupyter-widgets/base",
            "_model_module_version": "1.2.0",
            "_model_name": "LayoutModel",
            "_view_count": null,
            "_view_module": "@jupyter-widgets/base",
            "_view_module_version": "1.2.0",
            "_view_name": "LayoutView",
            "align_content": null,
            "align_items": null,
            "align_self": null,
            "border": null,
            "bottom": null,
            "display": null,
            "flex": null,
            "flex_flow": null,
            "grid_area": null,
            "grid_auto_columns": null,
            "grid_auto_flow": null,
            "grid_auto_rows": null,
            "grid_column": null,
            "grid_gap": null,
            "grid_row": null,
            "grid_template_areas": null,
            "grid_template_columns": null,
            "grid_template_rows": null,
            "height": null,
            "justify_content": null,
            "justify_items": null,
            "left": null,
            "margin": null,
            "max_height": null,
            "max_width": null,
            "min_height": null,
            "min_width": null,
            "object_fit": null,
            "object_position": null,
            "order": null,
            "overflow": null,
            "overflow_x": null,
            "overflow_y": null,
            "padding": null,
            "right": null,
            "top": null,
            "visibility": null,
            "width": null
          }
        },
        "7251a9c3f0df4f36b6d2c26042fc79b0": {
          "model_module": "@jupyter-widgets/controls",
          "model_name": "ProgressStyleModel",
          "state": {
            "_model_module": "@jupyter-widgets/controls",
            "_model_module_version": "1.5.0",
            "_model_name": "ProgressStyleModel",
            "_view_count": null,
            "_view_module": "@jupyter-widgets/base",
            "_view_module_version": "1.2.0",
            "_view_name": "StyleView",
            "bar_color": null,
            "description_width": "initial"
          }
        },
        "c98d24874d334b469bb85ecfcc3c1674": {
          "model_module": "@jupyter-widgets/base",
          "model_name": "LayoutModel",
          "state": {
            "_model_module": "@jupyter-widgets/base",
            "_model_module_version": "1.2.0",
            "_model_name": "LayoutModel",
            "_view_count": null,
            "_view_module": "@jupyter-widgets/base",
            "_view_module_version": "1.2.0",
            "_view_name": "LayoutView",
            "align_content": null,
            "align_items": null,
            "align_self": null,
            "border": null,
            "bottom": null,
            "display": null,
            "flex": null,
            "flex_flow": null,
            "grid_area": null,
            "grid_auto_columns": null,
            "grid_auto_flow": null,
            "grid_auto_rows": null,
            "grid_column": null,
            "grid_gap": null,
            "grid_row": null,
            "grid_template_areas": null,
            "grid_template_columns": null,
            "grid_template_rows": null,
            "height": null,
            "justify_content": null,
            "justify_items": null,
            "left": null,
            "margin": null,
            "max_height": null,
            "max_width": null,
            "min_height": null,
            "min_width": null,
            "object_fit": null,
            "object_position": null,
            "order": null,
            "overflow": null,
            "overflow_x": null,
            "overflow_y": null,
            "padding": null,
            "right": null,
            "top": null,
            "visibility": null,
            "width": null
          }
        },
        "4f380755c723411da522c788f844b5c9": {
          "model_module": "@jupyter-widgets/controls",
          "model_name": "DescriptionStyleModel",
          "state": {
            "_model_module": "@jupyter-widgets/controls",
            "_model_module_version": "1.5.0",
            "_model_name": "DescriptionStyleModel",
            "_view_count": null,
            "_view_module": "@jupyter-widgets/base",
            "_view_module_version": "1.2.0",
            "_view_name": "StyleView",
            "description_width": ""
          }
        },
        "ec60714b7f3644ac9b02379cc3b25466": {
          "model_module": "@jupyter-widgets/controls",
          "model_name": "HBoxModel",
          "state": {
            "_dom_classes": [],
            "_model_module": "@jupyter-widgets/controls",
            "_model_module_version": "1.5.0",
            "_model_name": "HBoxModel",
            "_view_count": null,
            "_view_module": "@jupyter-widgets/controls",
            "_view_module_version": "1.5.0",
            "_view_name": "HBoxView",
            "box_style": "",
            "children": [
              "IPY_MODEL_eb98e00ff9284a4daf163678d98001ae",
              "IPY_MODEL_610deba281bb44dfbd903d0ff94f182e"
            ],
            "layout": "IPY_MODEL_39fe90ccad7143a884329bab40c67fb8"
          }
        },
        "eb98e00ff9284a4daf163678d98001ae": {
          "model_module": "@jupyter-widgets/controls",
          "model_name": "FloatProgressModel",
          "state": {
            "_dom_classes": [],
            "_model_module": "@jupyter-widgets/controls",
            "_model_module_version": "1.5.0",
            "_model_name": "FloatProgressModel",
            "_view_count": null,
            "_view_module": "@jupyter-widgets/controls",
            "_view_module_version": "1.5.0",
            "_view_name": "ProgressView",
            "bar_style": "success",
            "description": "Downloading: 100%",
            "description_tooltip": null,
            "layout": "IPY_MODEL_3d0b371600774fabab5185afb7ff9271",
            "max": 124,
            "min": 0,
            "orientation": "horizontal",
            "style": "IPY_MODEL_307ebcdaea65429797923795182263f3",
            "value": 124
          }
        },
        "610deba281bb44dfbd903d0ff94f182e": {
          "model_module": "@jupyter-widgets/controls",
          "model_name": "HTMLModel",
          "state": {
            "_dom_classes": [],
            "_model_module": "@jupyter-widgets/controls",
            "_model_module_version": "1.5.0",
            "_model_name": "HTMLModel",
            "_view_count": null,
            "_view_module": "@jupyter-widgets/controls",
            "_view_module_version": "1.5.0",
            "_view_name": "HTMLView",
            "description": "",
            "description_tooltip": null,
            "layout": "IPY_MODEL_d8a99b4844434ef98de13ac52f7f0813",
            "placeholder": "​",
            "style": "IPY_MODEL_c6b59f06bb2b4e82867e717445a2264a",
            "value": " 124/124 [00:01&lt;00:00, 124B/s]"
          }
        },
        "39fe90ccad7143a884329bab40c67fb8": {
          "model_module": "@jupyter-widgets/base",
          "model_name": "LayoutModel",
          "state": {
            "_model_module": "@jupyter-widgets/base",
            "_model_module_version": "1.2.0",
            "_model_name": "LayoutModel",
            "_view_count": null,
            "_view_module": "@jupyter-widgets/base",
            "_view_module_version": "1.2.0",
            "_view_name": "LayoutView",
            "align_content": null,
            "align_items": null,
            "align_self": null,
            "border": null,
            "bottom": null,
            "display": null,
            "flex": null,
            "flex_flow": null,
            "grid_area": null,
            "grid_auto_columns": null,
            "grid_auto_flow": null,
            "grid_auto_rows": null,
            "grid_column": null,
            "grid_gap": null,
            "grid_row": null,
            "grid_template_areas": null,
            "grid_template_columns": null,
            "grid_template_rows": null,
            "height": null,
            "justify_content": null,
            "justify_items": null,
            "left": null,
            "margin": null,
            "max_height": null,
            "max_width": null,
            "min_height": null,
            "min_width": null,
            "object_fit": null,
            "object_position": null,
            "order": null,
            "overflow": null,
            "overflow_x": null,
            "overflow_y": null,
            "padding": null,
            "right": null,
            "top": null,
            "visibility": null,
            "width": null
          }
        },
        "3d0b371600774fabab5185afb7ff9271": {
          "model_module": "@jupyter-widgets/base",
          "model_name": "LayoutModel",
          "state": {
            "_model_module": "@jupyter-widgets/base",
            "_model_module_version": "1.2.0",
            "_model_name": "LayoutModel",
            "_view_count": null,
            "_view_module": "@jupyter-widgets/base",
            "_view_module_version": "1.2.0",
            "_view_name": "LayoutView",
            "align_content": null,
            "align_items": null,
            "align_self": null,
            "border": null,
            "bottom": null,
            "display": null,
            "flex": null,
            "flex_flow": null,
            "grid_area": null,
            "grid_auto_columns": null,
            "grid_auto_flow": null,
            "grid_auto_rows": null,
            "grid_column": null,
            "grid_gap": null,
            "grid_row": null,
            "grid_template_areas": null,
            "grid_template_columns": null,
            "grid_template_rows": null,
            "height": null,
            "justify_content": null,
            "justify_items": null,
            "left": null,
            "margin": null,
            "max_height": null,
            "max_width": null,
            "min_height": null,
            "min_width": null,
            "object_fit": null,
            "object_position": null,
            "order": null,
            "overflow": null,
            "overflow_x": null,
            "overflow_y": null,
            "padding": null,
            "right": null,
            "top": null,
            "visibility": null,
            "width": null
          }
        },
        "307ebcdaea65429797923795182263f3": {
          "model_module": "@jupyter-widgets/controls",
          "model_name": "ProgressStyleModel",
          "state": {
            "_model_module": "@jupyter-widgets/controls",
            "_model_module_version": "1.5.0",
            "_model_name": "ProgressStyleModel",
            "_view_count": null,
            "_view_module": "@jupyter-widgets/base",
            "_view_module_version": "1.2.0",
            "_view_name": "StyleView",
            "bar_color": null,
            "description_width": "initial"
          }
        },
        "d8a99b4844434ef98de13ac52f7f0813": {
          "model_module": "@jupyter-widgets/base",
          "model_name": "LayoutModel",
          "state": {
            "_model_module": "@jupyter-widgets/base",
            "_model_module_version": "1.2.0",
            "_model_name": "LayoutModel",
            "_view_count": null,
            "_view_module": "@jupyter-widgets/base",
            "_view_module_version": "1.2.0",
            "_view_name": "LayoutView",
            "align_content": null,
            "align_items": null,
            "align_self": null,
            "border": null,
            "bottom": null,
            "display": null,
            "flex": null,
            "flex_flow": null,
            "grid_area": null,
            "grid_auto_columns": null,
            "grid_auto_flow": null,
            "grid_auto_rows": null,
            "grid_column": null,
            "grid_gap": null,
            "grid_row": null,
            "grid_template_areas": null,
            "grid_template_columns": null,
            "grid_template_rows": null,
            "height": null,
            "justify_content": null,
            "justify_items": null,
            "left": null,
            "margin": null,
            "max_height": null,
            "max_width": null,
            "min_height": null,
            "min_width": null,
            "object_fit": null,
            "object_position": null,
            "order": null,
            "overflow": null,
            "overflow_x": null,
            "overflow_y": null,
            "padding": null,
            "right": null,
            "top": null,
            "visibility": null,
            "width": null
          }
        },
        "c6b59f06bb2b4e82867e717445a2264a": {
          "model_module": "@jupyter-widgets/controls",
          "model_name": "DescriptionStyleModel",
          "state": {
            "_model_module": "@jupyter-widgets/controls",
            "_model_module_version": "1.5.0",
            "_model_name": "DescriptionStyleModel",
            "_view_count": null,
            "_view_module": "@jupyter-widgets/base",
            "_view_module_version": "1.2.0",
            "_view_name": "StyleView",
            "description_width": ""
          }
        },
        "1ac60bec18814959bfe101d51ab77a76": {
          "model_module": "@jupyter-widgets/controls",
          "model_name": "HBoxModel",
          "state": {
            "_dom_classes": [],
            "_model_module": "@jupyter-widgets/controls",
            "_model_module_version": "1.5.0",
            "_model_name": "HBoxModel",
            "_view_count": null,
            "_view_module": "@jupyter-widgets/controls",
            "_view_module_version": "1.5.0",
            "_view_name": "HBoxView",
            "box_style": "",
            "children": [
              "IPY_MODEL_e9058be5e4e44ba5b12808aea1640176",
              "IPY_MODEL_1e88827a45c24181b7b5c22b0bf4a471"
            ],
            "layout": "IPY_MODEL_76227aae75a3458f8c3e9779b404a2b4"
          }
        },
        "e9058be5e4e44ba5b12808aea1640176": {
          "model_module": "@jupyter-widgets/controls",
          "model_name": "FloatProgressModel",
          "state": {
            "_dom_classes": [],
            "_model_module": "@jupyter-widgets/controls",
            "_model_module_version": "1.5.0",
            "_model_name": "FloatProgressModel",
            "_view_count": null,
            "_view_module": "@jupyter-widgets/controls",
            "_view_module_version": "1.5.0",
            "_view_name": "ProgressView",
            "bar_style": "success",
            "description": "Downloading: 100%",
            "description_tooltip": null,
            "layout": "IPY_MODEL_ab6e016db9dd4cb08b6e271665a248b9",
            "max": 242013376,
            "min": 0,
            "orientation": "horizontal",
            "style": "IPY_MODEL_51e170731e2a439bb12d67e6390a4169",
            "value": 242013376
          }
        },
        "1e88827a45c24181b7b5c22b0bf4a471": {
          "model_module": "@jupyter-widgets/controls",
          "model_name": "HTMLModel",
          "state": {
            "_dom_classes": [],
            "_model_module": "@jupyter-widgets/controls",
            "_model_module_version": "1.5.0",
            "_model_name": "HTMLModel",
            "_view_count": null,
            "_view_module": "@jupyter-widgets/controls",
            "_view_module_version": "1.5.0",
            "_view_name": "HTMLView",
            "description": "",
            "description_tooltip": null,
            "layout": "IPY_MODEL_2f0341d100384d6f9c8424cc1dcb653a",
            "placeholder": "​",
            "style": "IPY_MODEL_fbfac5811eda4496b945b45fa9c029fa",
            "value": " 242M/242M [00:19&lt;00:00, 12.4MB/s]"
          }
        },
        "76227aae75a3458f8c3e9779b404a2b4": {
          "model_module": "@jupyter-widgets/base",
          "model_name": "LayoutModel",
          "state": {
            "_model_module": "@jupyter-widgets/base",
            "_model_module_version": "1.2.0",
            "_model_name": "LayoutModel",
            "_view_count": null,
            "_view_module": "@jupyter-widgets/base",
            "_view_module_version": "1.2.0",
            "_view_name": "LayoutView",
            "align_content": null,
            "align_items": null,
            "align_self": null,
            "border": null,
            "bottom": null,
            "display": null,
            "flex": null,
            "flex_flow": null,
            "grid_area": null,
            "grid_auto_columns": null,
            "grid_auto_flow": null,
            "grid_auto_rows": null,
            "grid_column": null,
            "grid_gap": null,
            "grid_row": null,
            "grid_template_areas": null,
            "grid_template_columns": null,
            "grid_template_rows": null,
            "height": null,
            "justify_content": null,
            "justify_items": null,
            "left": null,
            "margin": null,
            "max_height": null,
            "max_width": null,
            "min_height": null,
            "min_width": null,
            "object_fit": null,
            "object_position": null,
            "order": null,
            "overflow": null,
            "overflow_x": null,
            "overflow_y": null,
            "padding": null,
            "right": null,
            "top": null,
            "visibility": null,
            "width": null
          }
        },
        "ab6e016db9dd4cb08b6e271665a248b9": {
          "model_module": "@jupyter-widgets/base",
          "model_name": "LayoutModel",
          "state": {
            "_model_module": "@jupyter-widgets/base",
            "_model_module_version": "1.2.0",
            "_model_name": "LayoutModel",
            "_view_count": null,
            "_view_module": "@jupyter-widgets/base",
            "_view_module_version": "1.2.0",
            "_view_name": "LayoutView",
            "align_content": null,
            "align_items": null,
            "align_self": null,
            "border": null,
            "bottom": null,
            "display": null,
            "flex": null,
            "flex_flow": null,
            "grid_area": null,
            "grid_auto_columns": null,
            "grid_auto_flow": null,
            "grid_auto_rows": null,
            "grid_column": null,
            "grid_gap": null,
            "grid_row": null,
            "grid_template_areas": null,
            "grid_template_columns": null,
            "grid_template_rows": null,
            "height": null,
            "justify_content": null,
            "justify_items": null,
            "left": null,
            "margin": null,
            "max_height": null,
            "max_width": null,
            "min_height": null,
            "min_width": null,
            "object_fit": null,
            "object_position": null,
            "order": null,
            "overflow": null,
            "overflow_x": null,
            "overflow_y": null,
            "padding": null,
            "right": null,
            "top": null,
            "visibility": null,
            "width": null
          }
        },
        "51e170731e2a439bb12d67e6390a4169": {
          "model_module": "@jupyter-widgets/controls",
          "model_name": "ProgressStyleModel",
          "state": {
            "_model_module": "@jupyter-widgets/controls",
            "_model_module_version": "1.5.0",
            "_model_name": "ProgressStyleModel",
            "_view_count": null,
            "_view_module": "@jupyter-widgets/base",
            "_view_module_version": "1.2.0",
            "_view_name": "StyleView",
            "bar_color": null,
            "description_width": "initial"
          }
        },
        "2f0341d100384d6f9c8424cc1dcb653a": {
          "model_module": "@jupyter-widgets/base",
          "model_name": "LayoutModel",
          "state": {
            "_model_module": "@jupyter-widgets/base",
            "_model_module_version": "1.2.0",
            "_model_name": "LayoutModel",
            "_view_count": null,
            "_view_module": "@jupyter-widgets/base",
            "_view_module_version": "1.2.0",
            "_view_name": "LayoutView",
            "align_content": null,
            "align_items": null,
            "align_self": null,
            "border": null,
            "bottom": null,
            "display": null,
            "flex": null,
            "flex_flow": null,
            "grid_area": null,
            "grid_auto_columns": null,
            "grid_auto_flow": null,
            "grid_auto_rows": null,
            "grid_column": null,
            "grid_gap": null,
            "grid_row": null,
            "grid_template_areas": null,
            "grid_template_columns": null,
            "grid_template_rows": null,
            "height": null,
            "justify_content": null,
            "justify_items": null,
            "left": null,
            "margin": null,
            "max_height": null,
            "max_width": null,
            "min_height": null,
            "min_width": null,
            "object_fit": null,
            "object_position": null,
            "order": null,
            "overflow": null,
            "overflow_x": null,
            "overflow_y": null,
            "padding": null,
            "right": null,
            "top": null,
            "visibility": null,
            "width": null
          }
        },
        "fbfac5811eda4496b945b45fa9c029fa": {
          "model_module": "@jupyter-widgets/controls",
          "model_name": "DescriptionStyleModel",
          "state": {
            "_model_module": "@jupyter-widgets/controls",
            "_model_module_version": "1.5.0",
            "_model_name": "DescriptionStyleModel",
            "_view_count": null,
            "_view_module": "@jupyter-widgets/base",
            "_view_module_version": "1.2.0",
            "_view_name": "StyleView",
            "description_width": ""
          }
        }
      }
    }
  },
  "cells": [
    {
      "cell_type": "code",
      "metadata": {
        "colab": {
          "base_uri": "https://localhost:8080/"
        },
        "id": "c87b950b",
        "outputId": "af7ee802-4971-4ace-bd0d-cd5bf9fdaeb2"
      },
      "source": [
        "import nltk\n",
        "import nltk.data\n",
        "from nltk.stem.lancaster import LancasterStemmer\n",
        "from nltk.stem.wordnet import WordNetLemmatizer\n",
        "import re\n",
        "import spacy\n",
        "import pandas as pd\n",
        "\n",
        "from nltk.corpus import stopwords\n",
        "nltk.download('stopwords')\n",
        "from nltk.tokenize import RegexpTokenizer\n",
        "\n",
        "\n",
        "nltk.download('words')\n",
        "nltk.download('wordnet')\n",
        "nltk.download('punkt')\n",
        "nltk.download('averaged_perceptron_tagger')\n",
        "\n",
        "import requests\n",
        "import pandas as pd\n",
        "from bs4 import BeautifulSoup\n",
        "from nltk.tokenize import word_tokenize\n",
        "from textblob import TextBlob\n",
        "from nltk.corpus import words\n",
        "#!pip install bert-extractive-summarizer\n",
        "\n",
        "!pip install -U transformers==3.0.0\n",
        "!git clone https://github.com/patil-suraj/question_generation.git"
      ],
      "id": "c87b950b",
      "execution_count": null,
      "outputs": [
        {
          "output_type": "stream",
          "text": [
            "[nltk_data] Downloading package stopwords to /root/nltk_data...\n",
            "[nltk_data]   Package stopwords is already up-to-date!\n",
            "[nltk_data] Downloading package words to /root/nltk_data...\n",
            "[nltk_data]   Package words is already up-to-date!\n",
            "[nltk_data] Downloading package wordnet to /root/nltk_data...\n",
            "[nltk_data]   Package wordnet is already up-to-date!\n",
            "[nltk_data] Downloading package punkt to /root/nltk_data...\n",
            "[nltk_data]   Package punkt is already up-to-date!\n",
            "[nltk_data] Downloading package averaged_perceptron_tagger to\n",
            "[nltk_data]     /root/nltk_data...\n",
            "[nltk_data]   Package averaged_perceptron_tagger is already up-to-\n",
            "[nltk_data]       date!\n",
            "Requirement already up-to-date: transformers==3.0.0 in /usr/local/lib/python3.7/dist-packages (3.0.0)\n",
            "Requirement already satisfied, skipping upgrade: sentencepiece in /usr/local/lib/python3.7/dist-packages (from transformers==3.0.0) (0.1.95)\n",
            "Requirement already satisfied, skipping upgrade: tokenizers==0.8.0-rc4 in /usr/local/lib/python3.7/dist-packages (from transformers==3.0.0) (0.8.0rc4)\n",
            "Requirement already satisfied, skipping upgrade: regex!=2019.12.17 in /usr/local/lib/python3.7/dist-packages (from transformers==3.0.0) (2019.12.20)\n",
            "Requirement already satisfied, skipping upgrade: tqdm>=4.27 in /usr/local/lib/python3.7/dist-packages (from transformers==3.0.0) (4.41.1)\n",
            "Requirement already satisfied, skipping upgrade: sacremoses in /usr/local/lib/python3.7/dist-packages (from transformers==3.0.0) (0.0.45)\n",
            "Requirement already satisfied, skipping upgrade: requests in /usr/local/lib/python3.7/dist-packages (from transformers==3.0.0) (2.23.0)\n",
            "Requirement already satisfied, skipping upgrade: packaging in /usr/local/lib/python3.7/dist-packages (from transformers==3.0.0) (20.9)\n",
            "Requirement already satisfied, skipping upgrade: filelock in /usr/local/lib/python3.7/dist-packages (from transformers==3.0.0) (3.0.12)\n",
            "Requirement already satisfied, skipping upgrade: numpy in /usr/local/lib/python3.7/dist-packages (from transformers==3.0.0) (1.19.5)\n",
            "Requirement already satisfied, skipping upgrade: joblib in /usr/local/lib/python3.7/dist-packages (from sacremoses->transformers==3.0.0) (1.0.1)\n",
            "Requirement already satisfied, skipping upgrade: six in /usr/local/lib/python3.7/dist-packages (from sacremoses->transformers==3.0.0) (1.15.0)\n",
            "Requirement already satisfied, skipping upgrade: click in /usr/local/lib/python3.7/dist-packages (from sacremoses->transformers==3.0.0) (7.1.2)\n",
            "Requirement already satisfied, skipping upgrade: certifi>=2017.4.17 in /usr/local/lib/python3.7/dist-packages (from requests->transformers==3.0.0) (2021.5.30)\n",
            "Requirement already satisfied, skipping upgrade: idna<3,>=2.5 in /usr/local/lib/python3.7/dist-packages (from requests->transformers==3.0.0) (2.10)\n",
            "Requirement already satisfied, skipping upgrade: chardet<4,>=3.0.2 in /usr/local/lib/python3.7/dist-packages (from requests->transformers==3.0.0) (3.0.4)\n",
            "Requirement already satisfied, skipping upgrade: urllib3!=1.25.0,!=1.25.1,<1.26,>=1.21.1 in /usr/local/lib/python3.7/dist-packages (from requests->transformers==3.0.0) (1.24.3)\n",
            "Requirement already satisfied, skipping upgrade: pyparsing>=2.0.2 in /usr/local/lib/python3.7/dist-packages (from packaging->transformers==3.0.0) (2.4.7)\n",
            "Cloning into 'question_generation'...\n",
            "remote: Enumerating objects: 265, done.\u001b[K\n",
            "remote: Counting objects: 100% (6/6), done.\u001b[K\n",
            "remote: Compressing objects: 100% (6/6), done.\u001b[K\n",
            "remote: Total 265 (delta 1), reused 2 (delta 0), pack-reused 259\u001b[K\n",
            "Receiving objects: 100% (265/265), 298.28 KiB | 6.21 MiB/s, done.\n",
            "Resolving deltas: 100% (141/141), done.\n"
          ],
          "name": "stdout"
        }
      ]
    },
    {
      "cell_type": "code",
      "metadata": {
        "id": "c689e2d9"
      },
      "source": [
        "\n",
        "  \n",
        "# link for extract html data\n",
        "def getdata(url):\n",
        "    r = requests.get(url)\n",
        "    return r.text\n",
        "  \n",
        "def bs(link):\n",
        "  htmldata = getdata(link)\n",
        "  soup = BeautifulSoup(htmldata, 'html.parser')\n",
        "  data = ''\n",
        "  ls = []\n",
        "  for data in soup.find_all(\"p\"):\n",
        "      ls.append(data.get_text())\n",
        "  return ls\n",
        "   "
      ],
      "id": "c689e2d9",
      "execution_count": null,
      "outputs": []
    },
    {
      "cell_type": "code",
      "metadata": {
        "id": "tFMT9c8AaCpR"
      },
      "source": [
        "cd = []\n",
        "cd.append(bs(\"https://en.wikipedia.org/wiki/Bone_tumor\"))\n",
        "#thislinkisbroken _ no meaningful context in the link #cd.append(bs(\"https://www.medicalnewstoday.com\"))\n",
        "#cd.append(bs(\"https://www.cancer.net/cancer-types/bone-cancer-sarcoma-bone/symptoms-and-signs\"))\n",
        "#cd.append(bs(\"https://www.cancercenter.com/cancer-types/bone-cancer/symptoms\"))\n",
        "#cd.append(bs(\"https://www.healthline.com/health/bone-tumors\"))\n",
        "#cd.append(bs(\"https://www.cancer.org/cancer/bone-cancer/detection-diagnosis-staging/signs-symptoms.html\"))"
      ],
      "id": "tFMT9c8AaCpR",
      "execution_count": null,
      "outputs": []
    },
    {
      "cell_type": "code",
      "metadata": {
        "id": "1u0sYWofcm6W"
      },
      "source": [
        "ls = ''\n",
        "for i in range (len(cd)):\n",
        "  ls+=str((cd[i]))"
      ],
      "id": "1u0sYWofcm6W",
      "execution_count": null,
      "outputs": []
    },
    {
      "cell_type": "code",
      "metadata": {
        "id": "3geQSkZl0v25"
      },
      "source": [
        "ls\n",
        "mystring = ls.replace('\\n', ' ').replace('[','').replace('\\\\','').replace(\"\\\"\",\"\").replace(\"'\",\"\")\n",
        "\n",
        "for i in range(len(cd)):\n",
        "  cd[i] = str(cd[i]).replace('\\n', ' ').replace('[','').replace('\\\\','').replace(\"\\\"\",\"\").replace(\"'\",\"\")\n",
        "\n",
        "  \n",
        "  "
      ],
      "id": "3geQSkZl0v25",
      "execution_count": null,
      "outputs": []
    },
    {
      "cell_type": "code",
      "metadata": {
        "colab": {
          "base_uri": "https://localhost:8080/"
        },
        "id": "IMcXPN7-Cpew",
        "outputId": "632d795a-0c66-4f2e-87cb-856e0b189b66"
      },
      "source": [
        "len(cd)"
      ],
      "id": "IMcXPN7-Cpew",
      "execution_count": null,
      "outputs": [
        {
          "output_type": "execute_result",
          "data": {
            "text/plain": [
              "1"
            ]
          },
          "metadata": {
            "tags": []
          },
          "execution_count": 57
        }
      ]
    },
    {
      "cell_type": "code",
      "metadata": {
        "colab": {
          "base_uri": "https://localhost:8080/",
          "height": 146
        },
        "id": "-02ypKox20an",
        "outputId": "1fb5c24a-c0ae-49e5-cfde-09f07883b9bc"
      },
      "source": [
        "mystring"
      ],
      "id": "-02ypKox20an",
      "execution_count": null,
      "outputs": [
        {
          "output_type": "execute_result",
          "data": {
            "application/vnd.google.colaboratory.intrinsic+json": {
              "type": "string"
            },
            "text/plain": [
              "'A bone tumor is an abnormal growth of tissue in bone, traditionally classified as noncancerous (benign) or cancerous (malignant).1]2]n, Diagnosis is generally by X-ray and other radiological tests such as CT scan, MRI, PET scan and bone scintigraphy.2] Blood tests might include a complete blood count, inflammatory markers, serum electrophoresis, PSA, kidney function and liver function.2] Urine may be sent for Bence Jones protein.2] For confirmation of diagnosis, a biopsy for histological evaluation might be required.2]n, Average five-year survival in the United States after being diagnosed with bone and joint cancer is 67%.3]n, The most common symptom of bone tumors is pain, which will gradually increase over time. A person may go weeks, months, and sometimes years before seeking help; the pain increases with the growth of the tumor. Additional symptoms may include fatigue, fever, weight loss, anemia, nausea, and unexplained bone fractures. Many patients will not experience any symptoms, except for a painless mass. Some bone tumors may weaken the structure of the bone, causing pathologic fractures.4]n, Bone tumors may be classified as primary tumors, which originate in bone or from bone-derived cells and tissues, and secondary tumors which originate in other sites and spread (metastasize) to the skeleton. Carcinomas of the prostate, breasts, lungs, thyroid, and kidneys are the carcinomas that most commonly metastasize to bone. Secondary malignant bone tumors are estimated to be 50 to 100 times as common as primary bone cancers.n, Primary tumors of bone can be divided into benign tumors and cancers. Common benign bone tumors may be neoplastic, developmental, traumatic, infectious, or inflammatory in etiology. Some benign tumors are not true neoplasms, but rather, represent hamartomas, namely the osteochondroma. The most common locations for many primary tumors, both benign and malignant include the distal femur and proximal tibia (around the knee joint).n, Examples of benign bone tumors include osteoma, osteoid osteoma, osteochondroma, osteoblastoma, enchondroma, giant cell tumor of bone and aneurysmal bone cyst.n, Malignant primary bone tumors include osteosarcoma, chondrosarcoma, Ewings sarcoma, fibrosarcoma, and other types.n, While malignant fibrous histiocytoma (MFH) - now generally called pleomorphic undifferentiated sarcoma - primary in bone is known to occur occasionally,5] current paradigms tend to consider MFH a wastebasket diagnosis, and the current trend is toward using specialized studies (i.e. genetic and immunohistochemical tests) to classify these undifferentiated tumors into other tumor classes. Multiple myeloma is a hematologic cancer, originating in the bone marrow, which also frequently presents as one or more bone lesions.n, Germ cell tumors, including teratoma, often present and originate in the midline of the sacrum, coccyx, or both. These sacrococcygeal teratomas are often relatively amenable to treatment.n, Secondary bone tumors are metastatic lesions which have spread from other organs, most commonly carcinomas of the breast, lung, and prostate. Rarely, primary bone malignancies such as osteosarcoma may also spread to other bones.n, Reliable and valid statistics on the incidence, prevalence, and mortality of malignant bone tumors are difficult to come by, particularly in the oldest (those over 75 years of age) - because carcinomas that are widely metastatic to bone are rarely ever curable, biopsies to determine the origin of the tumor in cases like this are rarely done.n, Projectional radiography (X-ray) is the optimal initial imaging modality for evaluating undiagnosed primary bone tumors.6] CT scan, MRI and/or histopathology can aid in reaching a final diagnosis, as well as staging thereof.n, Stage 1A bone cancern, Stage 1B bone cancern, Stage 2A bone cancern, Stage 2B bone cancern, Stage 3 bone cancern, Treatment of bone tumors is highly dependent on the type of tumor.n, Chemotherapy and radiotherapy are effective in some tumors (such as Ewings sarcoma) but less so in others (such as chondrosarcoma).7]nThere is a variety of chemotherapy treatment protocols for bone tumors. The protocol with the best-reported survival in children and adults is an intra-arterial protocol where tumor response is tracked by serial arteriogram.  When tumor response has reached >90% necrosis surgical intervention is planned.8]9]n, One of the major concerns is bone density and bone loss. Non-hormonal bisphosphonates increase bone strength and are available as once-a-week prescription pills. Metastron also known as strontium-89 chloride is an intravenous medication given to help with the pain and can be given in three-month intervals. Generic Strontium Chloride Sr-89 Injection UPS, manufactured by Bio-Nucleonics Inc., it is the generic version of Metastron.10]n, Treatment for some bone cancers may involve surgery, such as limb amputation, or limb sparing surgery (often in combination with chemotherapy and radiation therapy).  Limb sparing surgery, or limb salvage surgery, means the limb is spared from amputation.   Instead of amputation, the affected bone is removed and replaced in one of two ways: (a) bone graft, in which bone is taken from elsewhere on the body or (b) artificial bone is put in. In upper leg surgeries, limb salvage prostheses are available.n, The most radical of amputations is hemicorporectomy (translumbar or waist amputation) which removes the legs, the pelvis, urinary system, excretory system and the genital area (penis/testes in males and vagina/vulva in females).  This operation is done in two stages.   First stage is doing the colostomy and the urinary conduit, the second stage is the amputation. This is a mutilating operation and is only done as a last resort (e.g. when even pelvic exenteration does not work or in cases of advanced pelvic/reproductive cancers).n, Another type of surgery is called Van Nes rotation or rotationplasty which is a form of amputation,  in which the patients foot is turned upwards in a 180-degree turn and the upturned foot is used as a knee.n, There are other joint preservation surgical reconstruction options, which including allograft, tumor-devitalized autograft, vascularized fibula graft, distraction osteogenesis, and custom-made implants.11] An analysis of massive knee replacements after resection of primary bone tumours showed patients did not score as highly on the Musculoskeletal Tumour Society Score and Knee Society Score as patients who had undergone intra-articular resection.12]n, Over the past two decades, CT guided radiofrequency ablation has emerged as a less invasive alternative to surgical resection in the care of benign bone tumors, most notably osteoid osteomas. In this technique, which can be performed under conscious sedation, a RF probe is introduced into the tumor nidus through a cannulated needle under CT guidance and heat is applied locally to destroy tumor cells. Since the procedure was first introduced for the treatment of osteoid osteomas in the early 1990s,13] it has been shown in numerous studies to be less invasive and expensive, to result in less bone destruction and to have equivalent safety and efficacy to surgical techniques, with 66 to 96% of patients reporting freedom from symptoms.14]15]16] While initial success rates with RFA are high, symptom recurrence after RFA treatment has been reported, with some studies demonstrating a recurrence rate similar to that of surgical treatment.17]n, Thermal ablation techniques are also increasingly being used in the palliative treatment of painful metastatic bone disease. Currently, external beam radiation therapy is the standard of care for patients with localized bone pain due to metastatic disease. Although the majority of patients experience complete or partial relief of pain following radiation therapy, the effect is not immediate and has been shown in some studies to be transient in more than half of patients.18] For patients who are not eligible or do not respond to traditional therapies ( i.e. radiation therapy, chemotherapy, palliative surgery, bisphosphonates or analgesic medications), thermal ablation techniques have been explored as alternatives for pain reduction. Several multi-center clinical trials studying the efficacy of RFA in the treatment of moderate to severe pain in patients with metastatic bone disease have shown significant decreases in patient reported pain after treatment.19]20] These studies are limited however to patients with one or two metastatic sites; pain from multiple tumors can be difficult to localize for directed therapy. More recently, cryoablation has also been explored as a potentially effective alternative as the area of destruction created by this technique can be monitored more effectively by CT than RFA, a potential advantage when treating tumors adjacent to critical structures.21]n, The outlook depends on the type of tumor. The outcome is expected to be good for people with noncancerous (benign) tumors, although some types of benign tumors may eventually become cancerous (malignant). With malignant bone tumors that have not spread, most patients achieve a cure, but the cure rate depends on the type of cancer, location, size, and other factors.n]'"
            ]
          },
          "metadata": {
            "tags": []
          },
          "execution_count": 10
        }
      ]
    },
    {
      "cell_type": "code",
      "metadata": {
        "id": "3hVka9GHaC1i"
      },
      "source": [
        "ls = nltk.sent_tokenize(mystring)"
      ],
      "id": "3hVka9GHaC1i",
      "execution_count": null,
      "outputs": []
    },
    {
      "cell_type": "code",
      "metadata": {
        "colab": {
          "base_uri": "https://localhost:8080/"
        },
        "id": "brezDHsG7swe",
        "outputId": "b1974692-2fd6-43d0-fa11-eee24df99183"
      },
      "source": [
        ""
      ],
      "id": "brezDHsG7swe",
      "execution_count": null,
      "outputs": [
        {
          "output_type": "execute_result",
          "data": {
            "text/plain": [
              "9290"
            ]
          },
          "metadata": {
            "tags": []
          },
          "execution_count": 45
        }
      ]
    },
    {
      "cell_type": "code",
      "metadata": {
        "colab": {
          "base_uri": "https://localhost:8080/",
          "height": 109
        },
        "id": "yDf4i5MT4ce-",
        "outputId": "61ac412d-fba0-46ef-aa69-9662e2b08397"
      },
      "source": [
        "ls[0]"
      ],
      "id": "yDf4i5MT4ce-",
      "execution_count": null,
      "outputs": [
        {
          "output_type": "execute_result",
          "data": {
            "application/vnd.google.colaboratory.intrinsic+json": {
              "type": "string"
            },
            "text/plain": [
              "'A bone tumor is an abnormal growth of tissue in bone, traditionally classified as noncancerous (benign) or cancerous (malignant).1]2]n, Diagnosis is generally by X-ray and other radiological tests such as CT scan, MRI, PET scan and bone scintigraphy.2] Blood tests might include a complete blood count, inflammatory markers, serum electrophoresis, PSA, kidney function and liver function.2] Urine may be sent for Bence Jones protein.2] For confirmation of diagnosis, a biopsy for histological evaluation might be required.2]n, Average five-year survival in the United States after being diagnosed with bone and joint cancer is 67%.3]n, The most common symptom of bone tumors is pain, which will gradually increase over time.'"
            ]
          },
          "metadata": {
            "tags": []
          },
          "execution_count": 12
        }
      ]
    },
    {
      "cell_type": "code",
      "metadata": {
        "id": "dm3FUfRO44VE"
      },
      "source": [
        ""
      ],
      "id": "dm3FUfRO44VE",
      "execution_count": null,
      "outputs": []
    },
    {
      "cell_type": "code",
      "metadata": {
        "id": "AYfOz67e7EO9"
      },
      "source": [
        ""
      ],
      "id": "AYfOz67e7EO9",
      "execution_count": null,
      "outputs": []
    },
    {
      "cell_type": "code",
      "metadata": {
        "id": "81735478"
      },
      "source": [
        "# Class initializations\n",
        "\n",
        "nlp = spacy.load('en_core_web_sm')\n",
        "stemmer = LancasterStemmer()\n"
      ],
      "id": "81735478",
      "execution_count": null,
      "outputs": []
    },
    {
      "cell_type": "code",
      "metadata": {
        "id": "20949d09"
      },
      "source": [
        "\n",
        "\n",
        "# List to hold all input sentences\n",
        "sentences = []\n",
        "\n",
        "# Dictionary to hold sentences corresponding to respective discourse markers\n",
        "disc_sentences = {}\n",
        "\n",
        "# Remaining sentences which do not have discourse markers (To be used later to generate other kinds of questions)\n",
        "nondisc_sentences = []\n",
        "\n",
        "# List of auxiliary verbs\n",
        "aux_list = ['am', 'are', 'is', 'was', 'were', 'can', 'could', 'does', 'do', 'did', 'has', 'had', 'may', 'might', 'must',\n",
        "            'need', 'ought', 'shall', 'should', 'will', 'would']\n",
        "\n",
        "# List of all discourse markers\n",
        "discourse_markers = ['because', 'as a result', 'since', 'when', 'although', 'for example', 'for instance']\n",
        "\n",
        "# Different question types possible for each discourse marker\n",
        "qtype = {'because': ['Why'], 'since': ['When', 'Why'], 'when': ['When'], 'although': ['Yes/No'], 'as a result': ['Why'], \n",
        "        'for example': ['Give an example where'], 'for instance': ['Give an instance where'], 'to': ['Why']}\n",
        "\n",
        "# The argument which forms a question\n",
        "target_arg = {'because': 1, 'since': 1, 'when': 1, 'although': 1, 'as a result': 2, 'for example': 1, 'for instance': 1, \n",
        "              'to': 1}\n",
        "\n"
      ],
      "id": "20949d09",
      "execution_count": null,
      "outputs": []
    },
    {
      "cell_type": "code",
      "metadata": {
        "colab": {
          "base_uri": "https://localhost:8080/"
        },
        "id": "lcD92cqU4YYS",
        "outputId": "f2f61942-fc53-4597-973e-7397c404589c"
      },
      "source": [
        "ls[:20]"
      ],
      "id": "lcD92cqU4YYS",
      "execution_count": null,
      "outputs": [
        {
          "output_type": "execute_result",
          "data": {
            "text/plain": [
              "['A bone tumor is an abnormal growth of tissue in bone, traditionally classified as noncancerous (benign) or cancerous (malignant).1]2]n, Diagnosis is generally by X-ray and other radiological tests such as CT scan, MRI, PET scan and bone scintigraphy.2] Blood tests might include a complete blood count, inflammatory markers, serum electrophoresis, PSA, kidney function and liver function.2] Urine may be sent for Bence Jones protein.2] For confirmation of diagnosis, a biopsy for histological evaluation might be required.2]n, Average five-year survival in the United States after being diagnosed with bone and joint cancer is 67%.3]n, The most common symptom of bone tumors is pain, which will gradually increase over time.',\n",
              " 'A person may go weeks, months, and sometimes years before seeking help; the pain increases with the growth of the tumor.',\n",
              " 'Additional symptoms may include fatigue, fever, weight loss, anemia, nausea, and unexplained bone fractures.',\n",
              " 'Many patients will not experience any symptoms, except for a painless mass.',\n",
              " 'Some bone tumors may weaken the structure of the bone, causing pathologic fractures.4]n, Bone tumors may be classified as primary tumors, which originate in bone or from bone-derived cells and tissues, and secondary tumors which originate in other sites and spread (metastasize) to the skeleton.',\n",
              " 'Carcinomas of the prostate, breasts, lungs, thyroid, and kidneys are the carcinomas that most commonly metastasize to bone.',\n",
              " 'Secondary malignant bone tumors are estimated to be 50 to 100 times as common as primary bone cancers.n, Primary tumors of bone can be divided into benign tumors and cancers.',\n",
              " 'Common benign bone tumors may be neoplastic, developmental, traumatic, infectious, or inflammatory in etiology.',\n",
              " 'Some benign tumors are not true neoplasms, but rather, represent hamartomas, namely the osteochondroma.',\n",
              " 'The most common locations for many primary tumors, both benign and malignant include the distal femur and proximal tibia (around the knee joint).n, Examples of benign bone tumors include osteoma, osteoid osteoma, osteochondroma, osteoblastoma, enchondroma, giant cell tumor of bone and aneurysmal bone cyst.n, Malignant primary bone tumors include osteosarcoma, chondrosarcoma, Ewings sarcoma, fibrosarcoma, and other types.n, While malignant fibrous histiocytoma (MFH) - now generally called pleomorphic undifferentiated sarcoma - primary in bone is known to occur occasionally,5] current paradigms tend to consider MFH a wastebasket diagnosis, and the current trend is toward using specialized studies (i.e.',\n",
              " 'genetic and immunohistochemical tests) to classify these undifferentiated tumors into other tumor classes.',\n",
              " 'Multiple myeloma is a hematologic cancer, originating in the bone marrow, which also frequently presents as one or more bone lesions.n, Germ cell tumors, including teratoma, often present and originate in the midline of the sacrum, coccyx, or both.',\n",
              " 'These sacrococcygeal teratomas are often relatively amenable to treatment.n, Secondary bone tumors are metastatic lesions which have spread from other organs, most commonly carcinomas of the breast, lung, and prostate.',\n",
              " 'Rarely, primary bone malignancies such as osteosarcoma may also spread to other bones.n, Reliable and valid statistics on the incidence, prevalence, and mortality of malignant bone tumors are difficult to come by, particularly in the oldest (those over 75 years of age) - because carcinomas that are widely metastatic to bone are rarely ever curable, biopsies to determine the origin of the tumor in cases like this are rarely done.n, Projectional radiography (X-ray) is the optimal initial imaging modality for evaluating undiagnosed primary bone tumors.6] CT scan, MRI and/or histopathology can aid in reaching a final diagnosis, as well as staging thereof.n, Stage 1A bone cancern, Stage 1B bone cancern, Stage 2A bone cancern, Stage 2B bone cancern, Stage 3 bone cancern, Treatment of bone tumors is highly dependent on the type of tumor.n, Chemotherapy and radiotherapy are effective in some tumors (such as Ewings sarcoma) but less so in others (such as chondrosarcoma).7]nThere is a variety of chemotherapy treatment protocols for bone tumors.',\n",
              " 'The protocol with the best-reported survival in children and adults is an intra-arterial protocol where tumor response is tracked by serial arteriogram.',\n",
              " 'When tumor response has reached >90% necrosis surgical intervention is planned.8]9]n, One of the major concerns is bone density and bone loss.',\n",
              " 'Non-hormonal bisphosphonates increase bone strength and are available as once-a-week prescription pills.',\n",
              " 'Metastron also known as strontium-89 chloride is an intravenous medication given to help with the pain and can be given in three-month intervals.',\n",
              " 'Generic Strontium Chloride Sr-89 Injection UPS, manufactured by Bio-Nucleonics Inc., it is the generic version of Metastron.10]n, Treatment for some bone cancers may involve surgery, such as limb amputation, or limb sparing surgery (often in combination with chemotherapy and radiation therapy).',\n",
              " 'Limb sparing surgery, or limb salvage surgery, means the limb is spared from amputation.']"
            ]
          },
          "metadata": {
            "tags": []
          },
          "execution_count": 15
        }
      ]
    },
    {
      "cell_type": "code",
      "metadata": {
        "id": "03ffe14d"
      },
      "source": [
        "cv=[]\n",
        "for i in ls : \n",
        "    if (len(i)>40):\n",
        "        cv.append(i)\n",
        "cs = ''\n",
        "for i in ls : \n",
        "    if (len(i)>40):\n",
        "        cs+=i\n",
        "# this is cv , a list to store paragraphs and cs to generate wordcloud"
      ],
      "id": "03ffe14d",
      "execution_count": null,
      "outputs": []
    },
    {
      "cell_type": "code",
      "metadata": {
        "id": "30e-yeknm5Bc"
      },
      "source": [
        "# this section is cleaning text to view \n",
        "my_stopwords = nltk.corpus.stopwords.words('english')\n",
        "word_rooter = nltk.stem.snowball.PorterStemmer(ignore_stopwords=False).stem\n",
        "my_punctuation = '!\"$%&\\'()*+,-./:;<=>?[\\\\]^_`{|}~•@'\n",
        "\n",
        "\n",
        "def remove_links(tweet):\n",
        "    '''Takes a string and removes web links from it'''\n",
        "    tweet = re.sub(r'http\\S+', '', tweet) # remove http links\n",
        "    \n",
        "    tweet = re.sub(r'bit.ly/\\S+', '', tweet) # rempve bitly links\n",
        "    tweet = tweet.strip('[link]') # remove [links]\n",
        "    return tweet\n",
        "\n",
        "def remove_users(tweet):\n",
        "    '''Takes a string and removes retweet and @user information'''\n",
        "    tweet = re.sub('(RT\\s@[A-Za-z]+[A-Za-z0-9-_]+)', '', tweet) # remove retweet\n",
        "    tweet = re.sub('(@[A-Za-z]+[A-Za-z0-9-_]+)', '', tweet) # remove tweeted at\n",
        "    return tweet\n",
        "def cleanTxt(tweet, bigrams=False):\n",
        "\n",
        "\n",
        "    tweet = tweet.lower() # lower case\n",
        "    tweet = re.sub('['+my_punctuation + ']+', ' ', tweet) # strip punctuation\n",
        "    tweet = re.sub('\\s+', ' ', tweet) #remove double spacing\n",
        "    tweet = re.sub('([0-9]+)', '', tweet) # remove numbers\n",
        "    tweet_token_list = [word for word in tweet.split(' ')\n",
        "                            if word not in my_stopwords] # remove stopwords\n",
        "\n",
        "    tweet_token_list = [word_rooter(word) if '#' not in word else word\n",
        "                        for word in tweet_token_list] # apply word rooter\n",
        "    final = []\n",
        "\n",
        "    for x in tweet_token_list:\n",
        "      if x in words.words():\n",
        "        final.append(x)\n",
        "    tweet_token_list = final\n",
        "\n",
        "    if bigrams:\n",
        "        tweet_token_list = tweet_token_list+[tweet_token_list[i]+'_'+tweet_token_list[i+1]\n",
        "                                            for i in range(len(tweet_token_list)-1)]\n",
        "    tweet = ' '.join(tweet_token_list)\n",
        "    return tweet\n"
      ],
      "id": "30e-yeknm5Bc",
      "execution_count": null,
      "outputs": []
    },
    {
      "cell_type": "code",
      "metadata": {
        "id": "VTW3BOcKxOKo"
      },
      "source": [
        ""
      ],
      "id": "VTW3BOcKxOKo",
      "execution_count": null,
      "outputs": []
    },
    {
      "cell_type": "code",
      "metadata": {
        "id": "I6pdZDHf_LSz"
      },
      "source": [
        "def cleant(tweet):\n",
        "\n",
        "\n",
        "    tweet = tweet.lower() # lower case\n",
        "    tweet = re.sub('['+my_punctuation + ']+', ' ', tweet) # strip punctuation\n",
        "    tweet = re.sub('\\s+', ' ', tweet) #remove double spacing\n",
        "    tweet = re.sub('([0-9]+)', '', tweet) # remove numbers\n",
        "    return tweet\n",
        "\n",
        "\n"
      ],
      "id": "I6pdZDHf_LSz",
      "execution_count": null,
      "outputs": []
    },
    {
      "cell_type": "code",
      "metadata": {
        "colab": {
          "base_uri": "https://localhost:8080/"
        },
        "id": "uoqQx3rjCR9Z",
        "outputId": "2e8a6b20-37eb-46f9-be96-9eb98e15e6bc"
      },
      "source": [
        "nltk.download('brown')"
      ],
      "id": "uoqQx3rjCR9Z",
      "execution_count": null,
      "outputs": [
        {
          "output_type": "stream",
          "text": [
            "[nltk_data] Downloading package brown to /root/nltk_data...\n",
            "[nltk_data]   Unzipping corpora/brown.zip.\n"
          ],
          "name": "stdout"
        },
        {
          "output_type": "execute_result",
          "data": {
            "text/plain": [
              "True"
            ]
          },
          "metadata": {
            "tags": []
          },
          "execution_count": 19
        }
      ]
    },
    {
      "cell_type": "code",
      "metadata": {
        "colab": {
          "base_uri": "https://localhost:8080/",
          "height": 54
        },
        "id": "JPBjhJub57HZ",
        "outputId": "7bb438b0-6f84-4724-d1e0-ab685e5f12f9"
      },
      "source": [
        "'''\n",
        "!pip install rake-nltk\n",
        "\n",
        "from rake_nltk import Rake\n",
        "\n",
        "\n",
        "def replaceIC(word, sentence):\n",
        "  insensitive_hippo = re.compile(re.escape(word), re.IGNORECASE)\n",
        "  return insensitive_hippo.sub('__________________', sentence)\n",
        "'''"
      ],
      "id": "JPBjhJub57HZ",
      "execution_count": null,
      "outputs": [
        {
          "output_type": "execute_result",
          "data": {
            "application/vnd.google.colaboratory.intrinsic+json": {
              "type": "string"
            },
            "text/plain": [
              "\"\\n!pip install rake-nltk\\n\\nfrom rake_nltk import Rake\\n\\n\\ndef replaceIC(word, sentence):\\n  insensitive_hippo = re.compile(re.escape(word), re.IGNORECASE)\\n  return insensitive_hippo.sub('__________________', sentence)\\n\""
            ]
          },
          "metadata": {
            "tags": []
          },
          "execution_count": 17
        }
      ]
    },
    {
      "cell_type": "code",
      "metadata": {
        "id": "chXdalfjcFWX"
      },
      "source": [
        "for i in range(len(cv)):\n",
        "  cv[i] = str(cv[i])"
      ],
      "id": "chXdalfjcFWX",
      "execution_count": null,
      "outputs": []
    },
    {
      "cell_type": "code",
      "metadata": {
        "id": "YIO0NsdsoGRm"
      },
      "source": [
        "bs = [] # make a new list\n",
        "for i in range(len(cv)):\n",
        "  if (len(cv[i])>170):\n",
        "    bs.append(cv[i])\n",
        "\n",
        "cv = bs"
      ],
      "id": "YIO0NsdsoGRm",
      "execution_count": null,
      "outputs": []
    },
    {
      "cell_type": "code",
      "metadata": {
        "colab": {
          "base_uri": "https://localhost:8080/",
          "height": 146
        },
        "id": "qX8hUs58sB64",
        "outputId": "a64af974-d622-4da6-9b71-3f2110f44934"
      },
      "source": [
        "'''\n",
        "for i in cv:\n",
        "   lss = nltk.tokenize.sent_tokenize(i)\n",
        "   for j in lss:\n",
        "     j = cleant(j)\n",
        "     r = Rake() \n",
        "     r.extract_keywords_from_text(j)\n",
        "\n",
        "     X = r.get_ranked_phrases()\n",
        "     \n",
        "     if(len(X)>1):\n",
        "       print(\"Question()-\" , end=\" \")\n",
        "       print(replaceIC(X[0],j))\n",
        "       print(\"Ans()-\",end=\" \")\n",
        "       print(X[0])\n",
        "       text = j\n",
        "       blob = TextBlob(text)\n",
        "       blob.tags           # [('The', 'DT'), ('titular', 'JJ'),\n",
        "                            #  ('threat', 'NN'), ('of', 'IN'), ...]\n",
        "\n",
        "       blob.noun_phrases   # WordList(['titular threat', 'blob',\n",
        "                            #            'ultimate movie monster',\n",
        "                            #            'amoeba-like mass', ...])\n",
        "\n",
        "       for sentence in blob.sentences:\n",
        "         print(sentence.sentiment)\n",
        "          \n",
        "       print(\"----------------------------------------------------------------------------------------------------------------------\")\n",
        "  \n",
        "'''\n"
      ],
      "id": "qX8hUs58sB64",
      "execution_count": null,
      "outputs": [
        {
          "output_type": "execute_result",
          "data": {
            "application/vnd.google.colaboratory.intrinsic+json": {
              "type": "string"
            },
            "text/plain": [
              "'\\nfor i in cv:\\n   lss = nltk.tokenize.sent_tokenize(i)\\n   for j in lss:\\n     j = cleant(j)\\n     r = Rake() \\n     r.extract_keywords_from_text(j)\\n\\n     X = r.get_ranked_phrases()\\n     \\n     if(len(X)>1):\\n       print(\"Question()-\" , end=\" \")\\n       print(replaceIC(X[0],j))\\n       print(\"Ans()-\",end=\" \")\\n       print(X[0])\\n       text = j\\n       blob = TextBlob(text)\\n       blob.tags           # [(\\'The\\', \\'DT\\'), (\\'titular\\', \\'JJ\\'),\\n                            #  (\\'threat\\', \\'NN\\'), (\\'of\\', \\'IN\\'), ...]\\n\\n       blob.noun_phrases   # WordList([\\'titular threat\\', \\'blob\\',\\n                            #            \\'ultimate movie monster\\',\\n                            #            \\'amoeba-like mass\\', ...])\\n\\n       for sentence in blob.sentences:\\n         print(sentence.sentiment)\\n          \\n       print(\"----------------------------------------------------------------------------------------------------------------------\")\\n  \\n'"
            ]
          },
          "metadata": {
            "tags": []
          },
          "execution_count": 20
        }
      ]
    },
    {
      "cell_type": "code",
      "metadata": {
        "colab": {
          "base_uri": "https://localhost:8080/"
        },
        "id": "msAdzhCr-Q4-",
        "outputId": "43b5727f-ec8d-45f1-bfad-526f5de4a0ef"
      },
      "source": [
        "\n",
        "%cd question_generation\n",
        "from pipelines import pipeline\n",
        "\n",
        "\n"
      ],
      "id": "msAdzhCr-Q4-",
      "execution_count": null,
      "outputs": [
        {
          "output_type": "stream",
          "text": [
            "/content/question_generation/question_generation\n"
          ],
          "name": "stdout"
        }
      ]
    },
    {
      "cell_type": "code",
      "metadata": {
        "id": "C2Qf8b0g-Q7A"
      },
      "source": [
        "nlp = pipeline(\"question-generation\")"
      ],
      "id": "C2Qf8b0g-Q7A",
      "execution_count": null,
      "outputs": []
    },
    {
      "cell_type": "code",
      "metadata": {
        "id": "iL6mhgq--Q9Z"
      },
      "source": [
        ""
      ],
      "id": "iL6mhgq--Q9Z",
      "execution_count": null,
      "outputs": []
    },
    {
      "cell_type": "code",
      "metadata": {
        "colab": {
          "base_uri": "https://localhost:8080/",
          "height": 36
        },
        "id": "quqGUH_Hhjt_",
        "outputId": "24fdf422-80d8-46cc-dc63-4bd5e8e83ad9"
      },
      "source": [
        "# this is a model used to summarize big paragraph \n",
        "'''\n",
        "\n",
        "from summarizer import Summarizer\n",
        "\n",
        "model = Summarizer()\n",
        "for i in range(len(cd)):\n",
        "  cd[i] = model(str(cd[i]))\n",
        "\n",
        "'''"
      ],
      "id": "quqGUH_Hhjt_",
      "execution_count": null,
      "outputs": [
        {
          "output_type": "execute_result",
          "data": {
            "application/vnd.google.colaboratory.intrinsic+json": {
              "type": "string"
            },
            "text/plain": [
              "'\\n\\nfrom summarizer import Summarizer\\n\\nmodel = Summarizer()\\nfor i in range(len(cd)):\\n  cd[i] = model(str(cd[i]))\\n\\n'"
            ]
          },
          "metadata": {
            "tags": []
          },
          "execution_count": 21
        }
      ]
    },
    {
      "cell_type": "code",
      "metadata": {
        "id": "5tryTRoJBpAG"
      },
      "source": [
        ""
      ],
      "id": "5tryTRoJBpAG",
      "execution_count": null,
      "outputs": []
    },
    {
      "cell_type": "code",
      "metadata": {
        "id": "8RQ-XcSrBpC_"
      },
      "source": [
        ""
      ],
      "id": "8RQ-XcSrBpC_",
      "execution_count": null,
      "outputs": []
    },
    {
      "cell_type": "markdown",
      "metadata": {
        "id": "MNoSwPqIhkym"
      },
      "source": [
        "#Creating Q and A , to csv part 2 . "
      ],
      "id": "MNoSwPqIhkym"
    },
    {
      "cell_type": "code",
      "metadata": {
        "id": "PCaFUR7MWHys"
      },
      "source": [
        ""
      ],
      "id": "PCaFUR7MWHys",
      "execution_count": null,
      "outputs": []
    },
    {
      "cell_type": "code",
      "metadata": {
        "colab": {
          "base_uri": "https://localhost:8080/",
          "height": 146
        },
        "id": "lypwGHO21TLl",
        "outputId": "8b193b7b-0bcf-49b1-fa76-c4c7c31828ef"
      },
      "source": [
        "cd[0]"
      ],
      "id": "lypwGHO21TLl",
      "execution_count": null,
      "outputs": [
        {
          "output_type": "execute_result",
          "data": {
            "application/vnd.google.colaboratory.intrinsic+json": {
              "type": "string"
            },
            "text/plain": [
              "'A bone tumor is an abnormal growth of tissue in bone, traditionally classified as noncancerous (benign) or cancerous (malignant).1]2]n, Diagnosis is generally by X-ray and other radiological tests such as CT scan, MRI, PET scan and bone scintigraphy.2] Blood tests might include a complete blood count, inflammatory markers, serum electrophoresis, PSA, kidney function and liver function.2] Urine may be sent for Bence Jones protein.2] For confirmation of diagnosis, a biopsy for histological evaluation might be required.2]n, Average five-year survival in the United States after being diagnosed with bone and joint cancer is 67%.3]n, The most common symptom of bone tumors is pain, which will gradually increase over time. A person may go weeks, months, and sometimes years before seeking help; the pain increases with the growth of the tumor. Additional symptoms may include fatigue, fever, weight loss, anemia, nausea, and unexplained bone fractures. Many patients will not experience any symptoms, except for a painless mass. Some bone tumors may weaken the structure of the bone, causing pathologic fractures.4]n, Bone tumors may be classified as primary tumors, which originate in bone or from bone-derived cells and tissues, and secondary tumors which originate in other sites and spread (metastasize) to the skeleton. Carcinomas of the prostate, breasts, lungs, thyroid, and kidneys are the carcinomas that most commonly metastasize to bone. Secondary malignant bone tumors are estimated to be 50 to 100 times as common as primary bone cancers.n, Primary tumors of bone can be divided into benign tumors and cancers. Common benign bone tumors may be neoplastic, developmental, traumatic, infectious, or inflammatory in etiology. Some benign tumors are not true neoplasms, but rather, represent hamartomas, namely the osteochondroma. The most common locations for many primary tumors, both benign and malignant include the distal femur and proximal tibia (around the knee joint).n, Examples of benign bone tumors include osteoma, osteoid osteoma, osteochondroma, osteoblastoma, enchondroma, giant cell tumor of bone and aneurysmal bone cyst.n, Malignant primary bone tumors include osteosarcoma, chondrosarcoma, Ewings sarcoma, fibrosarcoma, and other types.n, While malignant fibrous histiocytoma (MFH) - now generally called pleomorphic undifferentiated sarcoma - primary in bone is known to occur occasionally,5] current paradigms tend to consider MFH a wastebasket diagnosis, and the current trend is toward using specialized studies (i.e. genetic and immunohistochemical tests) to classify these undifferentiated tumors into other tumor classes. Multiple myeloma is a hematologic cancer, originating in the bone marrow, which also frequently presents as one or more bone lesions.n, Germ cell tumors, including teratoma, often present and originate in the midline of the sacrum, coccyx, or both. These sacrococcygeal teratomas are often relatively amenable to treatment.n, Secondary bone tumors are metastatic lesions which have spread from other organs, most commonly carcinomas of the breast, lung, and prostate. Rarely, primary bone malignancies such as osteosarcoma may also spread to other bones.n, Reliable and valid statistics on the incidence, prevalence, and mortality of malignant bone tumors are difficult to come by, particularly in the oldest (those over 75 years of age) - because carcinomas that are widely metastatic to bone are rarely ever curable, biopsies to determine the origin of the tumor in cases like this are rarely done.n, Projectional radiography (X-ray) is the optimal initial imaging modality for evaluating undiagnosed primary bone tumors.6] CT scan, MRI and/or histopathology can aid in reaching a final diagnosis, as well as staging thereof.n, Stage 1A bone cancern, Stage 1B bone cancern, Stage 2A bone cancern, Stage 2B bone cancern, Stage 3 bone cancern, Treatment of bone tumors is highly dependent on the type of tumor.n, Chemotherapy and radiotherapy are effective in some tumors (such as Ewings sarcoma) but less so in others (such as chondrosarcoma).7]nThere is a variety of chemotherapy treatment protocols for bone tumors. The protocol with the best-reported survival in children and adults is an intra-arterial protocol where tumor response is tracked by serial arteriogram.  When tumor response has reached >90% necrosis surgical intervention is planned.8]9]n, One of the major concerns is bone density and bone loss. Non-hormonal bisphosphonates increase bone strength and are available as once-a-week prescription pills. Metastron also known as strontium-89 chloride is an intravenous medication given to help with the pain and can be given in three-month intervals. Generic Strontium Chloride Sr-89 Injection UPS, manufactured by Bio-Nucleonics Inc., it is the generic version of Metastron.10]n, Treatment for some bone cancers may involve surgery, such as limb amputation, or limb sparing surgery (often in combination with chemotherapy and radiation therapy).  Limb sparing surgery, or limb salvage surgery, means the limb is spared from amputation.   Instead of amputation, the affected bone is removed and replaced in one of two ways: (a) bone graft, in which bone is taken from elsewhere on the body or (b) artificial bone is put in. In upper leg surgeries, limb salvage prostheses are available.n, The most radical of amputations is hemicorporectomy (translumbar or waist amputation) which removes the legs, the pelvis, urinary system, excretory system and the genital area (penis/testes in males and vagina/vulva in females).  This operation is done in two stages.   First stage is doing the colostomy and the urinary conduit, the second stage is the amputation. This is a mutilating operation and is only done as a last resort (e.g. when even pelvic exenteration does not work or in cases of advanced pelvic/reproductive cancers).n, Another type of surgery is called Van Nes rotation or rotationplasty which is a form of amputation,  in which the patients foot is turned upwards in a 180-degree turn and the upturned foot is used as a knee.n, There are other joint preservation surgical reconstruction options, which including allograft, tumor-devitalized autograft, vascularized fibula graft, distraction osteogenesis, and custom-made implants.11] An analysis of massive knee replacements after resection of primary bone tumours showed patients did not score as highly on the Musculoskeletal Tumour Society Score and Knee Society Score as patients who had undergone intra-articular resection.12]n, Over the past two decades, CT guided radiofrequency ablation has emerged as a less invasive alternative to surgical resection in the care of benign bone tumors, most notably osteoid osteomas. In this technique, which can be performed under conscious sedation, a RF probe is introduced into the tumor nidus through a cannulated needle under CT guidance and heat is applied locally to destroy tumor cells. Since the procedure was first introduced for the treatment of osteoid osteomas in the early 1990s,13] it has been shown in numerous studies to be less invasive and expensive, to result in less bone destruction and to have equivalent safety and efficacy to surgical techniques, with 66 to 96% of patients reporting freedom from symptoms.14]15]16] While initial success rates with RFA are high, symptom recurrence after RFA treatment has been reported, with some studies demonstrating a recurrence rate similar to that of surgical treatment.17]n, Thermal ablation techniques are also increasingly being used in the palliative treatment of painful metastatic bone disease. Currently, external beam radiation therapy is the standard of care for patients with localized bone pain due to metastatic disease. Although the majority of patients experience complete or partial relief of pain following radiation therapy, the effect is not immediate and has been shown in some studies to be transient in more than half of patients.18] For patients who are not eligible or do not respond to traditional therapies ( i.e. radiation therapy, chemotherapy, palliative surgery, bisphosphonates or analgesic medications), thermal ablation techniques have been explored as alternatives for pain reduction. Several multi-center clinical trials studying the efficacy of RFA in the treatment of moderate to severe pain in patients with metastatic bone disease have shown significant decreases in patient reported pain after treatment.19]20] These studies are limited however to patients with one or two metastatic sites; pain from multiple tumors can be difficult to localize for directed therapy. More recently, cryoablation has also been explored as a potentially effective alternative as the area of destruction created by this technique can be monitored more effectively by CT than RFA, a potential advantage when treating tumors adjacent to critical structures.21]n, The outlook depends on the type of tumor. The outcome is expected to be good for people with noncancerous (benign) tumors, although some types of benign tumors may eventually become cancerous (malignant). With malignant bone tumors that have not spread, most patients achieve a cure, but the cure rate depends on the type of cancer, location, size, and other factors.n]'"
            ]
          },
          "metadata": {
            "tags": []
          },
          "execution_count": 24
        }
      ]
    },
    {
      "cell_type": "code",
      "metadata": {
        "id": "GAzenyIgX6-l"
      },
      "source": [
        ""
      ],
      "id": "GAzenyIgX6-l",
      "execution_count": null,
      "outputs": []
    },
    {
      "cell_type": "code",
      "metadata": {
        "id": "77e8a784"
      },
      "source": [
        ""
      ],
      "id": "77e8a784",
      "execution_count": null,
      "outputs": []
    },
    {
      "cell_type": "code",
      "metadata": {
        "colab": {
          "base_uri": "https://localhost:8080/"
        },
        "id": "RvqTEC-ZcLYG",
        "outputId": "c15c2571-9256-4e60-8460-503e90a211aa"
      },
      "source": [
        "# data instance is our dictionary to store all the Questions \n",
        "data = {\n",
        "  \"Question\": [],\n",
        "  \"Ans\": [],\n",
        "  \"context\":[]\n",
        "}\n",
        "\n",
        "#load data into a DataFrame object:\n",
        "df = pd.DataFrame(data)\n",
        "\n",
        "print(df) "
      ],
      "id": "RvqTEC-ZcLYG",
      "execution_count": null,
      "outputs": [
        {
          "output_type": "stream",
          "text": [
            "Empty DataFrame\n",
            "Columns: [Question, Ans, context]\n",
            "Index: []\n"
          ],
          "name": "stdout"
        }
      ]
    },
    {
      "cell_type": "code",
      "metadata": {
        "id": "5acb8e9d"
      },
      "source": [
        "#df.Question = output[\"questions\"][0][\"Question\"]\n",
        "#df.Ans = output[\"questions\"][0][\"Answer\"]"
      ],
      "id": "5acb8e9d",
      "execution_count": null,
      "outputs": []
    },
    {
      "cell_type": "code",
      "metadata": {
        "id": "Y0aBC4DLqsHa"
      },
      "source": [
        "# nltk tokenizing sentence from paragraph \n",
        "# this gives us simple sentences , from all the paragraph \n",
        "cv =[]\n",
        "bc =[]\n",
        "for i in cd :\n",
        "  bc = nltk.sent_tokenize(i)\n",
        "  \n",
        "  cv.extend(bc)"
      ],
      "id": "Y0aBC4DLqsHa",
      "execution_count": null,
      "outputs": []
    },
    {
      "cell_type": "code",
      "metadata": {
        "colab": {
          "base_uri": "https://localhost:8080/"
        },
        "id": "TrccPttMQc6h",
        "outputId": "77a68f57-32fc-4d04-c635-717a3d3e4768"
      },
      "source": [
        "len(cv[0])"
      ],
      "id": "TrccPttMQc6h",
      "execution_count": null,
      "outputs": [
        {
          "output_type": "execute_result",
          "data": {
            "text/plain": [
              "724"
            ]
          },
          "metadata": {
            "tags": []
          },
          "execution_count": 28
        }
      ]
    },
    {
      "cell_type": "code",
      "metadata": {
        "id": "4Eaxf9QQPMBn"
      },
      "source": [
        "\n",
        "# This is a filter step , for paragraph\n",
        "\n",
        "lss = ''\n",
        "bc = []\n",
        "len(cv[1])\n",
        "for i in cv:\n",
        "  if (len(i))<200 :  # iF THE LENGTH OF paragraph is smaller then 200 ,  then we increase size of list as following \n",
        "    if((len(lss)) < 200 ): # lss is a string , to help us manipulate strings , if lss len is less then 200 , \n",
        "      lss += str(i) # we append the list i which is smaller to lss , and we will append multiple strings from tokenize sentence to increase the length \n",
        "    else:\n",
        "      bc.append(lss) # if lss is not small anymore , then else loop runs and it appends the string to our final list which we pass to model , bc \n",
        "      lss =str(i)  # now we change lss , to the next sentence modelling after saving the previos lss string to our final list of Q\n",
        "  else:\n",
        "    bc.append(str(i)) # this runs when the string is big enough that it doesn't need to be added or increased in size\n",
        "\n",
        "      \n",
        "\n"
      ],
      "id": "4Eaxf9QQPMBn",
      "execution_count": null,
      "outputs": []
    },
    {
      "cell_type": "code",
      "metadata": {
        "colab": {
          "base_uri": "https://localhost:8080/"
        },
        "id": "lnyPZFomRQNw",
        "outputId": "e6f39df1-7887-4760-9f84-975df58229d0"
      },
      "source": [
        ""
      ],
      "id": "lnyPZFomRQNw",
      "execution_count": null,
      "outputs": [
        {
          "output_type": "execute_result",
          "data": {
            "text/plain": [
              "258"
            ]
          },
          "metadata": {
            "tags": []
          },
          "execution_count": 62
        }
      ]
    },
    {
      "cell_type": "code",
      "metadata": {
        "id": "slwp8hPe0bxV"
      },
      "source": [
        ""
      ],
      "id": "slwp8hPe0bxV",
      "execution_count": null,
      "outputs": []
    },
    {
      "cell_type": "code",
      "metadata": {
        "colab": {
          "base_uri": "https://localhost:8080/",
          "height": 319,
          "referenced_widgets": [
            "c77e36f7e097494dbdb7af6e996f410f",
            "b579122ccedf4f5c98a38b4d8aff22bd",
            "e2a7d10148264e4a934b2ab376497d06",
            "f98dac88065b412ea519c808081608f1",
            "af9e91ee48dd4fdc943e223d37dccd8c",
            "5ea5731638cf4940bed511e500124bfe",
            "a793d42e757c4561b461941ac5b7533c",
            "9ca90abce0f349dcb895e20f8b5d7bc8",
            "1523a0f3939847f59beb38818175fe70",
            "d395198261974b2882fb19daf7d39ae8",
            "5175226602b24b02bb85ccd3be831798",
            "868d15e0c4074848b8c357fbe269de20",
            "5cf40c7141a44059a8a230606475c15b",
            "cc8a6aac705e4455ac53a3191a913692",
            "d0128af4ba76413296a9619db2a6e012",
            "7606cce214c847e694587bc6b1658464",
            "bcfc60922e184b57a75cdd64565479d5",
            "6464b6a08a294f0685a438b9fd1dec54",
            "3b8bec6461c946d3a15ed098829d140b",
            "f1febfe291dd43bfbb2a75abb037932d",
            "6501ec97e87342e1a0bea977ceb6719d",
            "30732d9d68e14fec9a517ea948b34717",
            "50acd66e6e4b4810ba684cb9c25c2f0a",
            "afd287d7a2c447fc9e321450af84acc6",
            "e8c56d00679b4a2b8804e0357060ca06",
            "6eab1315caee4851806db99ca2bde38d",
            "58bd5f8fcf9e428ab243b6cc954a49c4",
            "a40897cffd65432fb0f4556dbd984b98",
            "1ebaa7a8d74b44069a03a0937a2ce2c2",
            "7251a9c3f0df4f36b6d2c26042fc79b0",
            "c98d24874d334b469bb85ecfcc3c1674",
            "4f380755c723411da522c788f844b5c9",
            "ec60714b7f3644ac9b02379cc3b25466",
            "eb98e00ff9284a4daf163678d98001ae",
            "610deba281bb44dfbd903d0ff94f182e",
            "39fe90ccad7143a884329bab40c67fb8",
            "3d0b371600774fabab5185afb7ff9271",
            "307ebcdaea65429797923795182263f3",
            "d8a99b4844434ef98de13ac52f7f0813",
            "c6b59f06bb2b4e82867e717445a2264a",
            "1ac60bec18814959bfe101d51ab77a76",
            "e9058be5e4e44ba5b12808aea1640176",
            "1e88827a45c24181b7b5c22b0bf4a471",
            "76227aae75a3458f8c3e9779b404a2b4",
            "ab6e016db9dd4cb08b6e271665a248b9",
            "51e170731e2a439bb12d67e6390a4169",
            "2f0341d100384d6f9c8424cc1dcb653a",
            "fbfac5811eda4496b945b45fa9c029fa"
          ]
        },
        "id": "5YAiMFzn0b0G",
        "outputId": "e0c90ae2-6fc8-489d-8f95-ab680e753993"
      },
      "source": [
        "nlp = pipeline(\"e2e-qg\")"
      ],
      "id": "5YAiMFzn0b0G",
      "execution_count": null,
      "outputs": [
        {
          "output_type": "display_data",
          "data": {
            "application/vnd.jupyter.widget-view+json": {
              "model_id": "c77e36f7e097494dbdb7af6e996f410f",
              "version_major": 2,
              "version_minor": 0
            },
            "text/plain": [
              "HBox(children=(FloatProgress(value=0.0, description='Downloading', max=1348.0, style=ProgressStyle(description…"
            ]
          },
          "metadata": {
            "tags": []
          }
        },
        {
          "output_type": "stream",
          "text": [
            "\n"
          ],
          "name": "stdout"
        },
        {
          "output_type": "display_data",
          "data": {
            "application/vnd.jupyter.widget-view+json": {
              "model_id": "1523a0f3939847f59beb38818175fe70",
              "version_major": 2,
              "version_minor": 0
            },
            "text/plain": [
              "HBox(children=(FloatProgress(value=0.0, description='Downloading', max=791656.0, style=ProgressStyle(descripti…"
            ]
          },
          "metadata": {
            "tags": []
          }
        },
        {
          "output_type": "stream",
          "text": [
            "\n"
          ],
          "name": "stdout"
        },
        {
          "output_type": "display_data",
          "data": {
            "application/vnd.jupyter.widget-view+json": {
              "model_id": "bcfc60922e184b57a75cdd64565479d5",
              "version_major": 2,
              "version_minor": 0
            },
            "text/plain": [
              "HBox(children=(FloatProgress(value=0.0, description='Downloading', max=31.0, style=ProgressStyle(description_w…"
            ]
          },
          "metadata": {
            "tags": []
          }
        },
        {
          "output_type": "stream",
          "text": [
            "\n"
          ],
          "name": "stdout"
        },
        {
          "output_type": "display_data",
          "data": {
            "application/vnd.jupyter.widget-view+json": {
              "model_id": "e8c56d00679b4a2b8804e0357060ca06",
              "version_major": 2,
              "version_minor": 0
            },
            "text/plain": [
              "HBox(children=(FloatProgress(value=0.0, description='Downloading', max=1786.0, style=ProgressStyle(description…"
            ]
          },
          "metadata": {
            "tags": []
          }
        },
        {
          "output_type": "stream",
          "text": [
            "\n"
          ],
          "name": "stdout"
        },
        {
          "output_type": "display_data",
          "data": {
            "application/vnd.jupyter.widget-view+json": {
              "model_id": "ec60714b7f3644ac9b02379cc3b25466",
              "version_major": 2,
              "version_minor": 0
            },
            "text/plain": [
              "HBox(children=(FloatProgress(value=0.0, description='Downloading', max=124.0, style=ProgressStyle(description_…"
            ]
          },
          "metadata": {
            "tags": []
          }
        },
        {
          "output_type": "stream",
          "text": [
            "\n"
          ],
          "name": "stdout"
        },
        {
          "output_type": "display_data",
          "data": {
            "application/vnd.jupyter.widget-view+json": {
              "model_id": "1ac60bec18814959bfe101d51ab77a76",
              "version_major": 2,
              "version_minor": 0
            },
            "text/plain": [
              "HBox(children=(FloatProgress(value=0.0, description='Downloading', max=242013376.0, style=ProgressStyle(descri…"
            ]
          },
          "metadata": {
            "tags": []
          }
        },
        {
          "output_type": "stream",
          "text": [
            "\n"
          ],
          "name": "stdout"
        }
      ]
    },
    {
      "cell_type": "code",
      "metadata": {
        "id": "vYCHvmY20b2b"
      },
      "source": [
        "d = []\n",
        "for i in range (5):#(len(bc)):\n",
        "  d.extend(nlp(cv[i]))"
      ],
      "id": "vYCHvmY20b2b",
      "execution_count": null,
      "outputs": []
    },
    {
      "cell_type": "code",
      "metadata": {
        "id": "9wVI2d0F0b48"
      },
      "source": [
        "xx = nlp(cv[2])"
      ],
      "id": "9wVI2d0F0b48",
      "execution_count": null,
      "outputs": []
    },
    {
      "cell_type": "code",
      "metadata": {
        "colab": {
          "base_uri": "https://localhost:8080/"
        },
        "id": "gHC5VQScL6qL",
        "outputId": "56551f93-8b2b-4115-d093-ac0e6a027556"
      },
      "source": [
        "type(xx)"
      ],
      "id": "gHC5VQScL6qL",
      "execution_count": null,
      "outputs": [
        {
          "output_type": "execute_result",
          "data": {
            "text/plain": [
              "list"
            ]
          },
          "metadata": {
            "tags": []
          },
          "execution_count": 32
        }
      ]
    },
    {
      "cell_type": "code",
      "metadata": {
        "id": "t97yZxVIL6tE"
      },
      "source": [
        ""
      ],
      "id": "t97yZxVIL6tE",
      "execution_count": null,
      "outputs": []
    },
    {
      "cell_type": "markdown",
      "metadata": {
        "id": "v-fersrsi-cd"
      },
      "source": [
        "# Main"
      ],
      "id": "v-fersrsi-cd"
    },
    {
      "cell_type": "code",
      "metadata": {
        "id": "oX1YYUOmyvEX"
      },
      "source": [
        "\n",
        "d= []\n",
        "for i in range (len(cv)):\n",
        "  d.clear()\n",
        "  try:\n",
        "    d = nlp(cv[i]) # runs the loop model to genereate answer and Question while passing the final list to our model , bc is final list\n",
        "  except:\n",
        "    continue\n",
        "\n",
        "\n",
        "\n",
        " \n",
        "  for j in range(len(d)): # append the list of Q to our data , dictionry to generate csv later \n",
        "\n",
        "    try:\n",
        "      data[\"Question\"].append(d[j])\n",
        "      data[\"Ans\"].append(\"\")\n",
        "      data[\"context\"].append(cv[i])\n",
        "    except:\n",
        "      continue\n",
        " \n",
        "  \n",
        "\n"
      ],
      "id": "oX1YYUOmyvEX",
      "execution_count": null,
      "outputs": []
    },
    {
      "cell_type": "code",
      "metadata": {
        "id": "HIbnYEYyyvJ0"
      },
      "source": [
        "df2 = pd.DataFrame(data)\n",
        "df2.drop(labels=\"Ans\",axis=1,inplace=True)\n"
      ],
      "id": "HIbnYEYyyvJ0",
      "execution_count": null,
      "outputs": []
    },
    {
      "cell_type": "markdown",
      "metadata": {
        "id": "IgvsikqJ0b1H"
      },
      "source": [
        "# New Section"
      ],
      "id": "IgvsikqJ0b1H"
    },
    {
      "cell_type": "code",
      "metadata": {
        "id": "73522507"
      },
      "source": [
        "df2.to_csv('QandA.csv', index=False)\n"
      ],
      "id": "73522507",
      "execution_count": null,
      "outputs": []
    },
    {
      "cell_type": "code",
      "metadata": {
        "id": "q7LCy4mvw1XU"
      },
      "source": [
        "import pandas as pd\n",
        "df= pd.read_csv(\"QandA.csv\")\n"
      ],
      "id": "q7LCy4mvw1XU",
      "execution_count": null,
      "outputs": []
    },
    {
      "cell_type": "code",
      "metadata": {
        "colab": {
          "base_uri": "https://localhost:8080/"
        },
        "id": "d5128f5c",
        "outputId": "9f622c75-4d54-48e3-e7ef-cd96f3a5cf4a"
      },
      "source": [
        "for i in range(10):\n",
        "  print(df.Question[i])"
      ],
      "id": "d5128f5c",
      "execution_count": null,
      "outputs": [
        {
          "output_type": "stream",
          "text": [
            "{'answer': 'pain', 'question': 'What is the most common symptom of bone tumors?'}\n",
            "{'answer': 'weeks, months, and sometimes years', 'question': 'How long can a person go before seeking help?'}\n",
            "{'answer': 'fatigue, fever, weight loss, anemia, nausea, and unexplained bone fractures', 'question': 'What other symptoms may be associated with fatigue, fever, weight loss, anemia, nausea, and unexplained bone fractures?'}\n",
            "{'answer': 'painless', 'question': 'What type of mass will many patients experience?'}\n",
            "{'answer': 'pathologic fractures', 'question': 'What causes bone tumors to weaken the structure of the bone?'}\n",
            "{'answer': 'secondary', 'question': 'What type of tumors can be classified as?'}\n",
            "{'answer': '50 to 100 times', 'question': 'How many times more common are secondary malignant bone tumors?'}\n",
            "{'answer': 'neoplastic, developmental, traumatic, infectious, or inflammatory', 'question': 'Common benign bone tumors may be what in etiology?'}\n",
            "{'answer': 'Common benign bone tumors', 'question': 'What may be neoplastic, developmental, traumatic, infectious, or inflammatory in etiology?'}\n",
            "{'answer': 'osteochondroma', 'question': 'What is hamartomas?'}\n"
          ],
          "name": "stdout"
        }
      ]
    },
    {
      "cell_type": "code",
      "metadata": {
        "id": "J49lqsR2Mm4G"
      },
      "source": [
        ""
      ],
      "id": "J49lqsR2Mm4G",
      "execution_count": null,
      "outputs": []
    },
    {
      "cell_type": "code",
      "metadata": {
        "id": "TUpR8RK9rHX5"
      },
      "source": [
        "\n",
        "from google.colab import files\n",
        "files.download(\"QandA.csv\")"
      ],
      "id": "TUpR8RK9rHX5",
      "execution_count": null,
      "outputs": []
    },
    {
      "cell_type": "code",
      "metadata": {
        "colab": {
          "base_uri": "https://localhost:8080/",
          "height": 356
        },
        "id": "6PG8FBElsMCx",
        "outputId": "42d5ea66-f430-45cb-bdf0-cd7d470bdf3f"
      },
      "source": [
        "cont = []\n",
        "cont.append(str(cd[0]))\n",
        "nlp({\n",
        "    \"question\": \"What is 42 ?\",\n",
        "    \"context\": \"42 is the answer to life, the universe and everything.\"\n",
        "})"
      ],
      "id": "6PG8FBElsMCx",
      "execution_count": null,
      "outputs": [
        {
          "output_type": "error",
          "ename": "AttributeError",
          "evalue": "ignored",
          "traceback": [
            "\u001b[0;31m---------------------------------------------------------------------------\u001b[0m",
            "\u001b[0;31mAttributeError\u001b[0m                            Traceback (most recent call last)",
            "\u001b[0;32m<ipython-input-67-312db7268954>\u001b[0m in \u001b[0;36m<module>\u001b[0;34m()\u001b[0m\n\u001b[1;32m      3\u001b[0m nlp({\n\u001b[1;32m      4\u001b[0m     \u001b[0;34m\"question\"\u001b[0m\u001b[0;34m:\u001b[0m \u001b[0;34m\"What is 42 ?\"\u001b[0m\u001b[0;34m,\u001b[0m\u001b[0;34m\u001b[0m\u001b[0;34m\u001b[0m\u001b[0m\n\u001b[0;32m----> 5\u001b[0;31m     \u001b[0;34m\"context\"\u001b[0m\u001b[0;34m:\u001b[0m \u001b[0;34m\"42 is the answer to life, the universe and everything.\"\u001b[0m\u001b[0;34m\u001b[0m\u001b[0;34m\u001b[0m\u001b[0m\n\u001b[0m\u001b[1;32m      6\u001b[0m })\n",
            "\u001b[0;32m/content/question_generation/pipelines.py\u001b[0m in \u001b[0;36m__call__\u001b[0;34m(self, inputs)\u001b[0m\n\u001b[1;32m     48\u001b[0m \u001b[0;34m\u001b[0m\u001b[0m\n\u001b[1;32m     49\u001b[0m     \u001b[0;32mdef\u001b[0m \u001b[0m__call__\u001b[0m\u001b[0;34m(\u001b[0m\u001b[0mself\u001b[0m\u001b[0;34m,\u001b[0m \u001b[0minputs\u001b[0m\u001b[0;34m:\u001b[0m \u001b[0mstr\u001b[0m\u001b[0;34m)\u001b[0m\u001b[0;34m:\u001b[0m\u001b[0;34m\u001b[0m\u001b[0;34m\u001b[0m\u001b[0m\n\u001b[0;32m---> 50\u001b[0;31m         \u001b[0minputs\u001b[0m \u001b[0;34m=\u001b[0m \u001b[0;34m\" \"\u001b[0m\u001b[0;34m.\u001b[0m\u001b[0mjoin\u001b[0m\u001b[0;34m(\u001b[0m\u001b[0minputs\u001b[0m\u001b[0;34m.\u001b[0m\u001b[0msplit\u001b[0m\u001b[0;34m(\u001b[0m\u001b[0;34m)\u001b[0m\u001b[0;34m)\u001b[0m\u001b[0;34m\u001b[0m\u001b[0;34m\u001b[0m\u001b[0m\n\u001b[0m\u001b[1;32m     51\u001b[0m         \u001b[0msents\u001b[0m\u001b[0;34m,\u001b[0m \u001b[0manswers\u001b[0m \u001b[0;34m=\u001b[0m \u001b[0mself\u001b[0m\u001b[0;34m.\u001b[0m\u001b[0m_extract_answers\u001b[0m\u001b[0;34m(\u001b[0m\u001b[0minputs\u001b[0m\u001b[0;34m)\u001b[0m\u001b[0;34m\u001b[0m\u001b[0;34m\u001b[0m\u001b[0m\n\u001b[1;32m     52\u001b[0m         \u001b[0mflat_answers\u001b[0m \u001b[0;34m=\u001b[0m \u001b[0mlist\u001b[0m\u001b[0;34m(\u001b[0m\u001b[0mitertools\u001b[0m\u001b[0;34m.\u001b[0m\u001b[0mchain\u001b[0m\u001b[0;34m(\u001b[0m\u001b[0;34m*\u001b[0m\u001b[0manswers\u001b[0m\u001b[0;34m)\u001b[0m\u001b[0;34m)\u001b[0m\u001b[0;34m\u001b[0m\u001b[0;34m\u001b[0m\u001b[0m\n",
            "\u001b[0;31mAttributeError\u001b[0m: 'dict' object has no attribute 'split'"
          ]
        }
      ]
    },
    {
      "cell_type": "code",
      "metadata": {
        "colab": {
          "background_save": true,
          "base_uri": "https://localhost:8080/"
        },
        "id": "uZH8cwc-C3Hx",
        "outputId": "a6eb58c0-2e8d-4bc2-c725-4a412affb8f2"
      },
      "source": [
        ""
      ],
      "id": "uZH8cwc-C3Hx",
      "execution_count": null,
      "outputs": [
        {
          "output_type": "stream",
          "text": [
            "[nltk_data] Downloading package punkt to /root/nltk_data...\n",
            "[nltk_data]   Package punkt is already up-to-date!\n",
            "[nltk_data] Downloading package wordnet to /root/nltk_data...\n",
            "[nltk_data]   Package wordnet is already up-to-date!\n"
          ],
          "name": "stdout"
        }
      ]
    },
    {
      "cell_type": "code",
      "metadata": {
        "id": "tvRihuVHI5yr"
      },
      "source": [
        ""
      ],
      "id": "tvRihuVHI5yr",
      "execution_count": null,
      "outputs": []
    }
  ]
}